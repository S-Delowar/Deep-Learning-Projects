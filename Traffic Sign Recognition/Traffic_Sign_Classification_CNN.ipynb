{
 "cells": [
  {
   "cell_type": "code",
   "execution_count": 1,
   "id": "273fc283",
   "metadata": {},
   "outputs": [],
   "source": [
    "import numpy as np\n",
    "import pandas as pd\n",
    "import matplotlib.pyplot as plt\n",
    "import cv2\n",
    "import tensorflow as tf\n",
    "from PIL import Image\n",
    "import os\n",
    "import warnings\n",
    "warnings.filterwarnings('ignore')"
   ]
  },
  {
   "cell_type": "code",
   "execution_count": 2,
   "id": "152dfa2e",
   "metadata": {},
   "outputs": [],
   "source": [
    "from sklearn.model_selection import train_test_split "
   ]
  },
  {
   "cell_type": "code",
   "execution_count": 3,
   "id": "146cb19d",
   "metadata": {},
   "outputs": [],
   "source": [
    "from keras.utils import to_categorical\n",
    "from keras.models import Sequential, load_model\n",
    "from keras.layers import Dense, Conv2D, MaxPool2D, AveragePooling2D, Flatten, Dropout, BatchNormalization"
   ]
  },
  {
   "cell_type": "code",
   "execution_count": 4,
   "id": "244c95db",
   "metadata": {},
   "outputs": [],
   "source": [
    "os.chdir('E:\\Data Science Machine Learning Study\\Deep Learning Projects\\Traffic_Sign_Detection')"
   ]
  },
  {
   "cell_type": "markdown",
   "id": "1c91c339",
   "metadata": {},
   "source": [
    "# Storing Data, Label in the List"
   ]
  },
  {
   "cell_type": "code",
   "execution_count": 5,
   "id": "1121f33d",
   "metadata": {},
   "outputs": [],
   "source": [
    "data = []\n",
    "labels = []\n",
    "\n",
    "# 43 classes we have\n",
    "classes = 43\n",
    "curr_path = os.getcwd()"
   ]
  },
  {
   "cell_type": "code",
   "execution_count": 6,
   "id": "797d96ad",
   "metadata": {},
   "outputs": [
    {
     "data": {
      "text/plain": [
       "'E:\\\\Data Science Machine Learning Study\\\\Deep Learning Projects\\\\Traffic_Sign_Detection'"
      ]
     },
     "execution_count": 6,
     "metadata": {},
     "output_type": "execute_result"
    }
   ],
   "source": [
    "curr_path"
   ]
  },
  {
   "cell_type": "markdown",
   "id": "9b11739f",
   "metadata": {},
   "source": [
    "# Preprocessing the images"
   ]
  },
  {
   "cell_type": "code",
   "execution_count": 7,
   "id": "dbd63e2b",
   "metadata": {},
   "outputs": [],
   "source": [
    "for i in range(classes):\n",
    "    path = os.path.join(curr_path, 'Train', str(i))\n",
    "    images = os.listdir(path)\n",
    "    for a in images:\n",
    "        try:\n",
    "            img = Image.open(path + '\\\\' + a)\n",
    "            img = img.resize((30,30))\n",
    "            img = np.array(img)\n",
    "            data.append(img)\n",
    "            labels.append(i)\n",
    "        except Exception:\n",
    "            print(\"Error in image processing\")"
   ]
  },
  {
   "cell_type": "code",
   "execution_count": 8,
   "id": "ac54bf42",
   "metadata": {},
   "outputs": [],
   "source": [
    "data = np.array(data)\n",
    "labels = np.array(labels)"
   ]
  },
  {
   "cell_type": "code",
   "execution_count": 9,
   "id": "39704b96",
   "metadata": {
    "scrolled": true
   },
   "outputs": [
    {
     "data": {
      "text/plain": [
       "array([ 0,  0,  0, ..., 42, 42, 42])"
      ]
     },
     "execution_count": 9,
     "metadata": {},
     "output_type": "execute_result"
    }
   ],
   "source": [
    "labels"
   ]
  },
  {
   "cell_type": "code",
   "execution_count": 81,
   "id": "0a42962b",
   "metadata": {},
   "outputs": [
    {
     "data": {
      "image/png": "[encoded data removed]",
      "text/plain": [
       "<Figure size 720x432 with 1 Axes>"
      ]
     },
     "metadata": {
      "needs_background": "light"
     },
     "output_type": "display_data"
    }
   ],
   "source": [
    "plt.figure(figsize=(10,6))\n",
    "import seaborn as sns\n",
    "sns.countplot(labels);"
   ]
  },
  {
   "cell_type": "markdown",
   "id": "a131f47d",
   "metadata": {},
   "source": [
    "# Save Data and Label for Future Use"
   ]
  },
  {
   "cell_type": "code",
   "execution_count": 10,
   "id": "3f588b4f",
   "metadata": {},
   "outputs": [],
   "source": [
    "# os.mkdir('training')\n",
    "\n",
    "np.save('./training/data', data)\n",
    "np.save('./training/target', labels)"
   ]
  },
  {
   "cell_type": "markdown",
   "id": "9d198357",
   "metadata": {},
   "source": [
    "# Load Data and Label"
   ]
  },
  {
   "cell_type": "code",
   "execution_count": 11,
   "id": "8fded76d",
   "metadata": {},
   "outputs": [],
   "source": [
    "data = np.load('./training/data.npy')\n",
    "labels = np.load('./training/target.npy')"
   ]
  },
  {
   "cell_type": "code",
   "execution_count": 12,
   "id": "0562098c",
   "metadata": {},
   "outputs": [
    {
     "name": "stdout",
     "output_type": "stream",
     "text": [
      "(39209, 30, 30, 3) (39209,)\n"
     ]
    }
   ],
   "source": [
    "print(data.shape, labels.shape)"
   ]
  },
  {
   "cell_type": "markdown",
   "id": "3dc6d2ea",
   "metadata": {},
   "source": [
    "## Spliting into training and testing data"
   ]
  },
  {
   "cell_type": "code",
   "execution_count": 13,
   "id": "c4f151ac",
   "metadata": {},
   "outputs": [],
   "source": [
    "X_train, X_test, y_train, y_test = train_test_split(data, labels, test_size= 0.25, random_state= 42)"
   ]
  },
  {
   "cell_type": "code",
   "execution_count": 14,
   "id": "c02f5974",
   "metadata": {},
   "outputs": [
    {
     "name": "stdout",
     "output_type": "stream",
     "text": [
      "(29406, 30, 30, 3) (9803, 30, 30, 3) (29406,) (9803,)\n"
     ]
    }
   ],
   "source": [
    "print(X_train.shape, X_test.shape, y_train.shape, y_test.shape)"
   ]
  },
  {
   "cell_type": "code",
   "execution_count": 15,
   "id": "2a074cec",
   "metadata": {},
   "outputs": [
    {
     "data": {
      "text/plain": [
       "array([[[49, 60, 55],\n",
       "        [49, 59, 52],\n",
       "        [52, 60, 53],\n",
       "        ...,\n",
       "        [64, 65, 60],\n",
       "        [60, 59, 56],\n",
       "        [57, 55, 50]],\n",
       "\n",
       "       [[53, 62, 58],\n",
       "        [49, 57, 53],\n",
       "        [51, 58, 54],\n",
       "        ...,\n",
       "        [60, 62, 56],\n",
       "        [59, 60, 56],\n",
       "        [57, 55, 50]],\n",
       "\n",
       "       [[47, 58, 55],\n",
       "        [42, 52, 50],\n",
       "        [42, 51, 49],\n",
       "        ...,\n",
       "        [60, 61, 50],\n",
       "        [59, 60, 51],\n",
       "        [61, 60, 52]],\n",
       "\n",
       "       ...,\n",
       "\n",
       "       [[44, 46, 36],\n",
       "        [48, 51, 39],\n",
       "        [54, 56, 42],\n",
       "        ...,\n",
       "        [63, 66, 54],\n",
       "        [63, 67, 59],\n",
       "        [56, 63, 56]],\n",
       "\n",
       "       [[44, 46, 37],\n",
       "        [43, 46, 37],\n",
       "        [49, 50, 38],\n",
       "        ...,\n",
       "        [57, 57, 46],\n",
       "        [62, 63, 55],\n",
       "        [56, 61, 54]],\n",
       "\n",
       "       [[51, 54, 46],\n",
       "        [47, 51, 42],\n",
       "        [46, 48, 37],\n",
       "        ...,\n",
       "        [59, 56, 46],\n",
       "        [66, 63, 55],\n",
       "        [64, 65, 57]]], dtype=uint8)"
      ]
     },
     "execution_count": 15,
     "metadata": {},
     "output_type": "execute_result"
    }
   ],
   "source": [
    "X_train[110]"
   ]
  },
  {
   "cell_type": "code",
   "execution_count": 70,
   "id": "c1978c91",
   "metadata": {},
   "outputs": [
    {
     "data": {
      "image/png": "[encoded data removed]",
      "text/plain": [
       "<Figure size 432x288 with 1 Axes>"
      ]
     },
     "metadata": {
      "needs_background": "light"
     },
     "output_type": "display_data"
    }
   ],
   "source": [
    "img = X_train[5009]\n",
    "plt.imshow(img, cmap='gray');"
   ]
  },
  {
   "cell_type": "code",
   "execution_count": 60,
   "id": "db8f4056",
   "metadata": {},
   "outputs": [
    {
     "data": {
      "image/png": "[encoded data removed]",
      "text/plain": [
       "<Figure size 432x288 with 1 Axes>"
      ]
     },
     "metadata": {
      "needs_background": "light"
     },
     "output_type": "display_data"
    }
   ],
   "source": [
    "img = X_train[1100]\n",
    "plt.imshow(img, cmap='gray');"
   ]
  },
  {
   "cell_type": "code",
   "execution_count": 68,
   "id": "a710cb7c",
   "metadata": {},
   "outputs": [
    {
     "data": {
      "image/png": "[encoded data removed]",
      "text/plain": [
       "<Figure size 432x288 with 1 Axes>"
      ]
     },
     "metadata": {
      "needs_background": "light"
     },
     "output_type": "display_data"
    }
   ],
   "source": [
    "img = X_train[990]\n",
    "plt.imshow(img, cmap='gray');"
   ]
  },
  {
   "cell_type": "code",
   "execution_count": 77,
   "id": "b63b7f3f",
   "metadata": {},
   "outputs": [
    {
     "data": {
      "image/png": "[encoded data removed]",
      "text/plain": [
       "<Figure size 432x288 with 1 Axes>"
      ]
     },
     "metadata": {
      "needs_background": "light"
     },
     "output_type": "display_data"
    }
   ],
   "source": [
    "img_ = X_test[2558]\n",
    "plt.imshow(img_, cmap='gray');"
   ]
  },
  {
   "cell_type": "markdown",
   "id": "4c829a1a",
   "metadata": {},
   "source": [
    "## Encoding the Labels (one-hot encoding)"
   ]
  },
  {
   "cell_type": "code",
   "execution_count": 18,
   "id": "5f215a19",
   "metadata": {},
   "outputs": [],
   "source": [
    "y_train = to_categorical(y_train, 43)\n",
    "y_test = to_categorical(y_test, 43)"
   ]
  },
  {
   "cell_type": "code",
   "execution_count": 19,
   "id": "ae7e123c",
   "metadata": {},
   "outputs": [],
   "source": [
    "X_train = X_train.astype('float32') / 255\n",
    "X_test = X_test.astype('float32') / 255"
   ]
  },
  {
   "cell_type": "code",
   "execution_count": 20,
   "id": "a022a9e8",
   "metadata": {},
   "outputs": [
    {
     "data": {
      "text/plain": [
       "array([[[1.        , 1.        , 1.        ],\n",
       "        [1.        , 1.        , 1.        ],\n",
       "        [1.        , 1.        , 1.        ],\n",
       "        ...,\n",
       "        [1.        , 1.        , 1.        ],\n",
       "        [1.        , 1.        , 1.        ],\n",
       "        [1.        , 1.        , 1.        ]],\n",
       "\n",
       "       [[0.99607843, 1.        , 1.        ],\n",
       "        [1.        , 1.        , 1.        ],\n",
       "        [1.        , 1.        , 1.        ],\n",
       "        ...,\n",
       "        [1.        , 1.        , 1.        ],\n",
       "        [1.        , 1.        , 1.        ],\n",
       "        [1.        , 1.        , 1.        ]],\n",
       "\n",
       "       [[0.64705884, 0.6745098 , 0.7176471 ],\n",
       "        [0.7254902 , 0.7372549 , 0.7490196 ],\n",
       "        [0.81960785, 0.84705883, 0.84313726],\n",
       "        ...,\n",
       "        [1.        , 1.        , 1.        ],\n",
       "        [1.        , 1.        , 1.        ],\n",
       "        [1.        , 1.        , 1.        ]],\n",
       "\n",
       "       ...,\n",
       "\n",
       "       [[0.6862745 , 0.7137255 , 0.7647059 ],\n",
       "        [0.67058825, 0.7137255 , 0.76862746],\n",
       "        [0.5803922 , 0.69411767, 0.7647059 ],\n",
       "        ...,\n",
       "        [0.68235296, 0.7294118 , 0.78431374],\n",
       "        [0.6862745 , 0.7137255 , 0.7764706 ],\n",
       "        [0.6862745 , 0.7176471 , 0.7764706 ]],\n",
       "\n",
       "       [[0.6745098 , 0.7176471 , 0.7647059 ],\n",
       "        [0.6509804 , 0.7058824 , 0.7607843 ],\n",
       "        [0.57254905, 0.68235296, 0.75686276],\n",
       "        ...,\n",
       "        [0.68235296, 0.7254902 , 0.7764706 ],\n",
       "        [0.6666667 , 0.7019608 , 0.76862746],\n",
       "        [0.68235296, 0.7137255 , 0.7764706 ]],\n",
       "\n",
       "       [[0.65882355, 0.70980394, 0.76862746],\n",
       "        [0.654902  , 0.6901961 , 0.7490196 ],\n",
       "        [0.5803922 , 0.6862745 , 0.7490196 ],\n",
       "        ...,\n",
       "        [0.6745098 , 0.70980394, 0.75686276],\n",
       "        [0.68235296, 0.7058824 , 0.76862746],\n",
       "        [0.6862745 , 0.7058824 , 0.7764706 ]]], dtype=float32)"
      ]
     },
     "execution_count": 20,
     "metadata": {},
     "output_type": "execute_result"
    }
   ],
   "source": [
    "X_train[0]"
   ]
  },
  {
   "cell_type": "code",
   "execution_count": 21,
   "id": "ccba4fca",
   "metadata": {},
   "outputs": [
    {
     "data": {
      "text/plain": [
       "array([[0., 0., 0., ..., 0., 0., 0.],\n",
       "       [0., 0., 0., ..., 0., 0., 0.],\n",
       "       [0., 0., 0., ..., 0., 0., 0.],\n",
       "       ...,\n",
       "       [0., 0., 0., ..., 0., 0., 0.],\n",
       "       [0., 0., 0., ..., 0., 0., 0.],\n",
       "       [0., 0., 0., ..., 0., 0., 0.]], dtype=float32)"
      ]
     },
     "execution_count": 21,
     "metadata": {},
     "output_type": "execute_result"
    }
   ],
   "source": [
    "y_test"
   ]
  },
  {
   "cell_type": "markdown",
   "id": "3c46625f",
   "metadata": {},
   "source": [
    "# Mdel Building"
   ]
  },
  {
   "cell_type": "code",
   "execution_count": 22,
   "id": "e0d69642",
   "metadata": {},
   "outputs": [],
   "source": [
    "from keras.optimizers import Adam"
   ]
  },
  {
   "cell_type": "code",
   "execution_count": 23,
   "id": "d61a4d31",
   "metadata": {},
   "outputs": [
    {
     "data": {
      "text/plain": [
       "(30, 30, 3)"
      ]
     },
     "execution_count": 23,
     "metadata": {},
     "output_type": "execute_result"
    }
   ],
   "source": [
    "input_shape=X_train.shape[1:]\n",
    "input_shape"
   ]
  },
  {
   "cell_type": "code",
   "execution_count": null,
   "id": "11c0444f",
   "metadata": {},
   "outputs": [],
   "source": []
  },
  {
   "cell_type": "code",
   "execution_count": 24,
   "id": "bc9543d9",
   "metadata": {},
   "outputs": [],
   "source": [
    "# model building\n",
    "def build_model():\n",
    "    model = Sequential()\n",
    "    model.add(Conv2D(filters = 32, kernel_size = (5,5), strides=(1,1), padding='same', activation='relu', input_shape = (30,30,3)))\n",
    "    model.add(Conv2D(filters = 32, kernel_size = (5,5), strides=(1,1), padding='same', activation='relu'))\n",
    "    model.add(MaxPool2D(pool_size=(2,2)))\n",
    "    model.add(Dropout(rate=0.25))\n",
    "    model.add(Conv2D(filters = 64, kernel_size= (3,3), strides=(1,1), padding='same', activation='relu'))\n",
    "    model.add(MaxPool2D(pool_size=(2,2)))\n",
    "    model.add(Dropout(rate=0.25))\n",
    "    model.add(Conv2D(filters = 64, kernel_size= (3,3), strides=(1,1), padding='same', activation='relu'))\n",
    "    model.add(MaxPool2D(pool_size=(2,2)))\n",
    "    model.add(Flatten())\n",
    "\n",
    "    # Fully Connected Layer\n",
    "    model.add(Dense(units= 256, activation='relu'))\n",
    "    model.add(Dropout(rate=0.25))\n",
    "\n",
    "    # Output Layer\n",
    "    model.add(Dense(units = 43, activation='softmax'))\n",
    "\n",
    "    optimizers = Adam(learning_rate = 0.001)\n",
    "\n",
    "    model.compile(optimizer = optimizers, loss = 'categorical_crossentropy', metrics = ['accuracy'])\n",
    "\n",
    "    return model"
   ]
  },
  {
   "cell_type": "code",
   "execution_count": 25,
   "id": "ba497d02",
   "metadata": {
    "scrolled": true
   },
   "outputs": [
    {
     "name": "stdout",
     "output_type": "stream",
     "text": [
      "Model: \"sequential\"\n",
      "_________________________________________________________________\n",
      " Layer (type)                Output Shape              Param #   \n",
      "=================================================================\n",
      " conv2d (Conv2D)             (None, 30, 30, 32)        2432      \n",
      "                                                                 \n",
      " conv2d_1 (Conv2D)           (None, 30, 30, 32)        25632     \n",
      "                                                                 \n",
      " max_pooling2d (MaxPooling2D  (None, 15, 15, 32)       0         \n",
      " )                                                               \n",
      "                                                                 \n",
      " dropout (Dropout)           (None, 15, 15, 32)        0         \n",
      "                                                                 \n",
      " conv2d_2 (Conv2D)           (None, 15, 15, 64)        18496     \n",
      "                                                                 \n",
      " max_pooling2d_1 (MaxPooling  (None, 7, 7, 64)         0         \n",
      " 2D)                                                             \n",
      "                                                                 \n",
      " dropout_1 (Dropout)         (None, 7, 7, 64)          0         \n",
      "                                                                 \n",
      " conv2d_3 (Conv2D)           (None, 7, 7, 64)          36928     \n",
      "                                                                 \n",
      " max_pooling2d_2 (MaxPooling  (None, 3, 3, 64)         0         \n",
      " 2D)                                                             \n",
      "                                                                 \n",
      " flatten (Flatten)           (None, 576)               0         \n",
      "                                                                 \n",
      " dense (Dense)               (None, 256)               147712    \n",
      "                                                                 \n",
      " dropout_2 (Dropout)         (None, 256)               0         \n",
      "                                                                 \n",
      " dense_1 (Dense)             (None, 43)                11051     \n",
      "                                                                 \n",
      "=================================================================\n",
      "Total params: 242,251\n",
      "Trainable params: 242,251\n",
      "Non-trainable params: 0\n",
      "_________________________________________________________________\n"
     ]
    }
   ],
   "source": [
    "model_1 = build_model()\n",
    "model_1.summary()"
   ]
  },
  {
   "cell_type": "code",
   "execution_count": 26,
   "id": "b76a89df",
   "metadata": {
    "scrolled": true
   },
   "outputs": [
    {
     "name": "stdout",
     "output_type": "stream",
     "text": [
      "Epoch 1/10\n",
      "919/919 [==============================] - 96s 103ms/step - loss: 1.8792 - accuracy: 0.4476 - val_loss: 0.4240 - val_accuracy: 0.8696\n",
      "Epoch 2/10\n",
      "919/919 [==============================] - 93s 101ms/step - loss: 0.3525 - accuracy: 0.8868 - val_loss: 0.1146 - val_accuracy: 0.9717\n",
      "Epoch 3/10\n",
      "919/919 [==============================] - 90s 98ms/step - loss: 0.1696 - accuracy: 0.9461 - val_loss: 0.0646 - val_accuracy: 0.9818\n",
      "Epoch 4/10\n",
      "919/919 [==============================] - 87s 95ms/step - loss: 0.1187 - accuracy: 0.9628 - val_loss: 0.0431 - val_accuracy: 0.9872\n",
      "Epoch 5/10\n",
      "919/919 [==============================] - 90s 97ms/step - loss: 0.0916 - accuracy: 0.9717 - val_loss: 0.0359 - val_accuracy: 0.9886\n",
      "Epoch 6/10\n",
      "919/919 [==============================] - 100s 108ms/step - loss: 0.0779 - accuracy: 0.9770 - val_loss: 0.0369 - val_accuracy: 0.9885\n",
      "Epoch 7/10\n",
      "919/919 [==============================] - 96s 104ms/step - loss: 0.0684 - accuracy: 0.9794 - val_loss: 0.0386 - val_accuracy: 0.9901\n",
      "Epoch 8/10\n",
      "919/919 [==============================] - 94s 102ms/step - loss: 0.0587 - accuracy: 0.9818 - val_loss: 0.0369 - val_accuracy: 0.9881\n",
      "Epoch 9/10\n",
      "919/919 [==============================] - 93s 101ms/step - loss: 0.0586 - accuracy: 0.9821 - val_loss: 0.0241 - val_accuracy: 0.9933\n",
      "Epoch 10/10\n",
      "919/919 [==============================] - 89s 97ms/step - loss: 0.0525 - accuracy: 0.9833 - val_loss: 0.0216 - val_accuracy: 0.9944\n"
     ]
    }
   ],
   "source": [
    "epochs = 10\n",
    "history = model_1.fit(X_train, y_train, batch_size=32, epochs=epochs, validation_data=(X_test, y_test))"
   ]
  },
  {
   "cell_type": "code",
   "execution_count": 27,
   "id": "15f463a9",
   "metadata": {},
   "outputs": [
    {
     "data": {
      "image/png": "[encoded data removed]",
      "text/plain": [
       "<Figure size 432x288 with 1 Axes>"
      ]
     },
     "metadata": {
      "needs_background": "light"
     },
     "output_type": "display_data"
    }
   ],
   "source": [
    "# Accuracy\n",
    "plt.plot(history.history['accuracy'], label='training accuracy')\n",
    "plt.plot(history.history['val_accuracy'], label='val accuracy')\n",
    "plt.xlabel('epochs')\n",
    "plt.ylabel('accuracy')\n",
    "plt.ylim([0.5, 1])\n",
    "plt.title('Accuracy vs Epochs')\n",
    "plt.legend()\n",
    "plt.show();\n"
   ]
  },
  {
   "cell_type": "code",
   "execution_count": 28,
   "id": "babe0998",
   "metadata": {},
   "outputs": [
    {
     "data": {
      "image/png": "[encoded data removed]",
      "text/plain": [
       "<Figure size 432x288 with 1 Axes>"
      ]
     },
     "metadata": {
      "needs_background": "light"
     },
     "output_type": "display_data"
    }
   ],
   "source": [
    "# Loss\n",
    "plt.plot(history.history['loss'], label='training loss')\n",
    "plt.plot(history.history['val_loss'], label='val loss')\n",
    "plt.xlabel('epoch')\n",
    "plt.ylabel('loss')\n",
    "plt.ylim([0, 1])\n",
    "plt.title('Loss vs Epochs')\n",
    "plt.legend()\n",
    "plt.show();\n"
   ]
  },
  {
   "cell_type": "markdown",
   "id": "c1ac0697",
   "metadata": {},
   "source": [
    "### Changing Parameters for better performance"
   ]
  },
  {
   "cell_type": "code",
   "execution_count": 29,
   "id": "5c5090ea",
   "metadata": {},
   "outputs": [],
   "source": [
    "def build_model_2():\n",
    "    model = Sequential()\n",
    "    model.add(Conv2D(filters=32, kernel_size=(5,5), activation='relu', input_shape=X_train.shape[1:]))\n",
    "    model.add(Conv2D(filters=32, kernel_size=(5,5), activation='relu'))\n",
    "    model.add(MaxPool2D(pool_size=(2, 2)))\n",
    "    model.add(Dropout(rate=0.25))\n",
    "    model.add(Conv2D(filters=64, kernel_size=(3, 3), activation='relu'))\n",
    "    model.add(Conv2D(filters=64, kernel_size=(3, 3), activation='relu'))\n",
    "    model.add(MaxPool2D(pool_size=(2, 2)))\n",
    "    model.add(Dropout(rate=0.25))\n",
    "    model.add(Flatten())\n",
    "    model.add(Dense(256, activation='relu'))\n",
    "    model.add(Dropout(rate=0.5))\n",
    "\n",
    "    model.add(Dense(43, activation='softmax'))\n",
    "    \n",
    "    optimizers = Adam(learning_rate = 0.001)\n",
    "\n",
    "    model.compile(optimizer = optimizers, loss = 'categorical_crossentropy', metrics = ['accuracy'])\n",
    "\n",
    "    return model"
   ]
  },
  {
   "cell_type": "code",
   "execution_count": 30,
   "id": "5a43a0f5",
   "metadata": {},
   "outputs": [
    {
     "name": "stdout",
     "output_type": "stream",
     "text": [
      "Model: \"sequential_1\"\n",
      "_________________________________________________________________\n",
      " Layer (type)                Output Shape              Param #   \n",
      "=================================================================\n",
      " conv2d_4 (Conv2D)           (None, 26, 26, 32)        2432      \n",
      "                                                                 \n",
      " conv2d_5 (Conv2D)           (None, 22, 22, 32)        25632     \n",
      "                                                                 \n",
      " max_pooling2d_3 (MaxPooling  (None, 11, 11, 32)       0         \n",
      " 2D)                                                             \n",
      "                                                                 \n",
      " dropout_3 (Dropout)         (None, 11, 11, 32)        0         \n",
      "                                                                 \n",
      " conv2d_6 (Conv2D)           (None, 9, 9, 64)          18496     \n",
      "                                                                 \n",
      " conv2d_7 (Conv2D)           (None, 7, 7, 64)          36928     \n",
      "                                                                 \n",
      " max_pooling2d_4 (MaxPooling  (None, 3, 3, 64)         0         \n",
      " 2D)                                                             \n",
      "                                                                 \n",
      " dropout_4 (Dropout)         (None, 3, 3, 64)          0         \n",
      "                                                                 \n",
      " flatten_1 (Flatten)         (None, 576)               0         \n",
      "                                                                 \n",
      " dense_2 (Dense)             (None, 256)               147712    \n",
      "                                                                 \n",
      " dropout_5 (Dropout)         (None, 256)               0         \n",
      "                                                                 \n",
      " dense_3 (Dense)             (None, 43)                11051     \n",
      "                                                                 \n",
      "=================================================================\n",
      "Total params: 242,251\n",
      "Trainable params: 242,251\n",
      "Non-trainable params: 0\n",
      "_________________________________________________________________\n"
     ]
    }
   ],
   "source": [
    "model_2 = build_model_2()\n",
    "model_2.summary()"
   ]
  },
  {
   "cell_type": "code",
   "execution_count": 31,
   "id": "73765b39",
   "metadata": {},
   "outputs": [
    {
     "name": "stdout",
     "output_type": "stream",
     "text": [
      "Epoch 1/10\n",
      "919/919 [==============================] - 56s 60ms/step - loss: 1.3105 - accuracy: 0.6301 - val_loss: 0.1845 - val_accuracy: 0.9458\n",
      "Epoch 2/10\n",
      "919/919 [==============================] - 57s 62ms/step - loss: 0.2691 - accuracy: 0.9198 - val_loss: 0.0645 - val_accuracy: 0.9836\n",
      "Epoch 3/10\n",
      "919/919 [==============================] - 56s 61ms/step - loss: 0.1654 - accuracy: 0.9500 - val_loss: 0.0545 - val_accuracy: 0.9839\n",
      "Epoch 4/10\n",
      "919/919 [==============================] - 344s 375ms/step - loss: 0.1194 - accuracy: 0.9639 - val_loss: 0.0534 - val_accuracy: 0.9832\n",
      "Epoch 5/10\n",
      "919/919 [==============================] - 59s 64ms/step - loss: 0.1100 - accuracy: 0.9674 - val_loss: 0.0312 - val_accuracy: 0.9912\n",
      "Epoch 6/10\n",
      "919/919 [==============================] - 58s 63ms/step - loss: 0.0948 - accuracy: 0.9705 - val_loss: 0.0296 - val_accuracy: 0.9925\n",
      "Epoch 7/10\n",
      "919/919 [==============================] - 56s 60ms/step - loss: 0.0850 - accuracy: 0.9744 - val_loss: 0.0284 - val_accuracy: 0.9921\n",
      "Epoch 8/10\n",
      "919/919 [==============================] - 57s 62ms/step - loss: 0.0818 - accuracy: 0.9755 - val_loss: 0.0246 - val_accuracy: 0.9937\n",
      "Epoch 9/10\n",
      "919/919 [==============================] - 56s 61ms/step - loss: 0.0718 - accuracy: 0.9787 - val_loss: 0.0239 - val_accuracy: 0.9938\n",
      "Epoch 10/10\n",
      "919/919 [==============================] - 57s 62ms/step - loss: 0.0647 - accuracy: 0.9819 - val_loss: 0.0199 - val_accuracy: 0.9952\n"
     ]
    }
   ],
   "source": [
    "epochs = 10\n",
    "history = model_2.fit(X_train, y_train, batch_size=32, epochs=epochs, validation_data=(X_test, y_test))"
   ]
  },
  {
   "cell_type": "code",
   "execution_count": 32,
   "id": "3a324b6b",
   "metadata": {},
   "outputs": [
    {
     "data": {
      "image/png": "[encoded data removed]",
      "text/plain": [
       "<Figure size 432x288 with 1 Axes>"
      ]
     },
     "metadata": {
      "needs_background": "light"
     },
     "output_type": "display_data"
    }
   ],
   "source": [
    "# Accuracy\n",
    "plt.plot(history.history['accuracy'], label='training accuracy')\n",
    "plt.plot(history.history['val_accuracy'], label='val accuracy')\n",
    "plt.ylim([0.5, 1])\n",
    "plt.xlabel('epochs')\n",
    "plt.ylabel('accuracy')\n",
    "plt.title('Accuracy vs Epochs')\n",
    "plt.legend()\n",
    "plt.show();"
   ]
  },
  {
   "cell_type": "code",
   "execution_count": 33,
   "id": "ea19ae39",
   "metadata": {
    "scrolled": false
   },
   "outputs": [
    {
     "data": {
      "image/png": "[encoded data removed]",
      "text/plain": [
       "<Figure size 432x288 with 1 Axes>"
      ]
     },
     "metadata": {
      "needs_background": "light"
     },
     "output_type": "display_data"
    }
   ],
   "source": [
    "# Loss\n",
    "plt.plot(history.history['loss'], label='training loss')\n",
    "plt.plot(history.history['val_loss'], label='val loss')\n",
    "plt.ylim([0, 1])\n",
    "plt.xlabel('epoch')\n",
    "plt.ylabel('loss')\n",
    "plt.title('Loss vs Epochs')\n",
    "plt.legend()\n",
    "plt.show();"
   ]
  },
  {
   "cell_type": "markdown",
   "id": "a241781b",
   "metadata": {},
   "source": [
    "# Performance with Image Augmentation - Model_2"
   ]
  },
  {
   "cell_type": "code",
   "execution_count": 34,
   "id": "ec4fbf2e",
   "metadata": {},
   "outputs": [],
   "source": [
    "from tensorflow.keras.preprocessing.image import ImageDataGenerator"
   ]
  },
  {
   "cell_type": "code",
   "execution_count": 35,
   "id": "69fd7cad",
   "metadata": {},
   "outputs": [],
   "source": [
    "def build_model_3():\n",
    "    model = Sequential()\n",
    "    model.add(Conv2D(filters=32, kernel_size=(3,3), activation='relu', input_shape=(30,30,3)))\n",
    "    model.add(Conv2D(filters=32, kernel_size=(3,3), activation='relu'))\n",
    "    model.add(MaxPool2D(pool_size=(2, 2)))\n",
    "    model.add(BatchNormalization(axis=-1))\n",
    "    \n",
    "    model.add(Conv2D(filters=64, kernel_size=(3,3), activation='relu'))\n",
    "    model.add(Conv2D(filters=64, kernel_size=(3,3), activation='relu'))\n",
    "    model.add(MaxPool2D(pool_size=(2, 2)))\n",
    "    model.add(BatchNormalization(axis=-1))\n",
    "    \n",
    "    model.add(Flatten())\n",
    "    model.add(Dense(256, activation='relu'))\n",
    "    model.add(BatchNormalization())\n",
    "    model.add(Dropout(rate=0.5))\n",
    "    \n",
    "    model.add(Dense(43, activation='softmax'))\n",
    "    \n",
    "    optimizers = Adam(learning_rate = 0.001)\n",
    "\n",
    "    model.compile(optimizer = optimizers, loss = 'categorical_crossentropy', metrics = ['accuracy'])\n",
    "    \n",
    "    return model"
   ]
  },
  {
   "cell_type": "code",
   "execution_count": 36,
   "id": "49e1f7ce",
   "metadata": {},
   "outputs": [],
   "source": [
    "augImage = ImageDataGenerator(\n",
    "            rotation_range=15,\n",
    "            width_shift_range=0.1,\n",
    "            height_shift_range=0.1,\n",
    "            shear_range=0.1,\n",
    "            horizontal_flip=False,\n",
    "            vertical_flip=False,\n",
    "            zoom_range=0.1)"
   ]
  },
  {
   "cell_type": "code",
   "execution_count": 37,
   "id": "35f5d8b4",
   "metadata": {},
   "outputs": [
    {
     "name": "stdout",
     "output_type": "stream",
     "text": [
      "Model: \"sequential_2\"\n",
      "_________________________________________________________________\n",
      " Layer (type)                Output Shape              Param #   \n",
      "=================================================================\n",
      " conv2d_8 (Conv2D)           (None, 28, 28, 32)        896       \n",
      "                                                                 \n",
      " conv2d_9 (Conv2D)           (None, 26, 26, 32)        9248      \n",
      "                                                                 \n",
      " max_pooling2d_5 (MaxPooling  (None, 13, 13, 32)       0         \n",
      " 2D)                                                             \n",
      "                                                                 \n",
      " batch_normalization (BatchN  (None, 13, 13, 32)       128       \n",
      " ormalization)                                                   \n",
      "                                                                 \n",
      " conv2d_10 (Conv2D)          (None, 11, 11, 64)        18496     \n",
      "                                                                 \n",
      " conv2d_11 (Conv2D)          (None, 9, 9, 64)          36928     \n",
      "                                                                 \n",
      " max_pooling2d_6 (MaxPooling  (None, 4, 4, 64)         0         \n",
      " 2D)                                                             \n",
      "                                                                 \n",
      " batch_normalization_1 (Batc  (None, 4, 4, 64)         256       \n",
      " hNormalization)                                                 \n",
      "                                                                 \n",
      " flatten_2 (Flatten)         (None, 1024)              0         \n",
      "                                                                 \n",
      " dense_4 (Dense)             (None, 256)               262400    \n",
      "                                                                 \n",
      " batch_normalization_2 (Batc  (None, 256)              1024      \n",
      " hNormalization)                                                 \n",
      "                                                                 \n",
      " dropout_6 (Dropout)         (None, 256)               0         \n",
      "                                                                 \n",
      " dense_5 (Dense)             (None, 43)                11051     \n",
      "                                                                 \n",
      "=================================================================\n",
      "Total params: 340,427\n",
      "Trainable params: 339,723\n",
      "Non-trainable params: 704\n",
      "_________________________________________________________________\n"
     ]
    }
   ],
   "source": [
    "model_3 = build_model_3()\n",
    "model_3.summary()"
   ]
  },
  {
   "cell_type": "code",
   "execution_count": 38,
   "id": "06e26e20",
   "metadata": {
    "scrolled": true
   },
   "outputs": [
    {
     "name": "stdout",
     "output_type": "stream",
     "text": [
      "Epoch 1/10\n",
      "919/919 [==============================] - 51s 54ms/step - loss: 1.2653 - accuracy: 0.6559 - val_loss: 0.1065 - val_accuracy: 0.9713\n",
      "Epoch 2/10\n",
      "919/919 [==============================] - 51s 55ms/step - loss: 0.2414 - accuracy: 0.9272 - val_loss: 0.0571 - val_accuracy: 0.9808\n",
      "Epoch 3/10\n",
      "919/919 [==============================] - 50s 54ms/step - loss: 0.1477 - accuracy: 0.9562 - val_loss: 0.0629 - val_accuracy: 0.9801\n",
      "Epoch 4/10\n",
      "919/919 [==============================] - 50s 54ms/step - loss: 0.1085 - accuracy: 0.9664 - val_loss: 0.0303 - val_accuracy: 0.9914\n",
      "Epoch 5/10\n",
      "919/919 [==============================] - 50s 54ms/step - loss: 0.0917 - accuracy: 0.9719 - val_loss: 0.0151 - val_accuracy: 0.9955\n",
      "Epoch 6/10\n",
      "919/919 [==============================] - 50s 54ms/step - loss: 0.0758 - accuracy: 0.9764 - val_loss: 0.0122 - val_accuracy: 0.9958\n",
      "Epoch 7/10\n",
      "919/919 [==============================] - 50s 54ms/step - loss: 0.0683 - accuracy: 0.9785 - val_loss: 0.0099 - val_accuracy: 0.9972\n",
      "Epoch 8/10\n",
      "919/919 [==============================] - 49s 54ms/step - loss: 0.0687 - accuracy: 0.9793 - val_loss: 0.0289 - val_accuracy: 0.9911\n",
      "Epoch 9/10\n",
      "919/919 [==============================] - 50s 54ms/step - loss: 0.0530 - accuracy: 0.9832 - val_loss: 0.0179 - val_accuracy: 0.9953\n",
      "Epoch 10/10\n",
      "919/919 [==============================] - 50s 54ms/step - loss: 0.0539 - accuracy: 0.9835 - val_loss: 0.0175 - val_accuracy: 0.9944\n"
     ]
    }
   ],
   "source": [
    "epochs = 10\n",
    "history = model_3.fit(augImage.flow(X_train, y_train, batch_size=32), epochs=epochs, validation_data=(X_test, y_test))"
   ]
  },
  {
   "cell_type": "code",
   "execution_count": 39,
   "id": "c73bd479",
   "metadata": {},
   "outputs": [
    {
     "data": {
      "image/png": "[encoded data removed]",
      "text/plain": [
       "<Figure size 432x288 with 1 Axes>"
      ]
     },
     "metadata": {
      "needs_background": "light"
     },
     "output_type": "display_data"
    }
   ],
   "source": [
    "# Accuracy\n",
    "plt.plot(history.history['accuracy'], label='training accuracy')\n",
    "plt.plot(history.history['val_accuracy'], label='val accuracy')\n",
    "plt.ylim([0.5, 1])\n",
    "plt.xlabel('epochs')\n",
    "plt.ylabel('accuracy')\n",
    "plt.title('Accuracy vs Epochs')\n",
    "plt.legend()\n",
    "plt.show();"
   ]
  },
  {
   "cell_type": "code",
   "execution_count": 40,
   "id": "bcb3a23e",
   "metadata": {
    "scrolled": false
   },
   "outputs": [
    {
     "data": {
      "image/png": "[encoded data removed]",
      "text/plain": [
       "<Figure size 432x288 with 1 Axes>"
      ]
     },
     "metadata": {
      "needs_background": "light"
     },
     "output_type": "display_data"
    }
   ],
   "source": [
    "# Loss\n",
    "plt.plot(history.history['loss'], label='training loss')\n",
    "plt.plot(history.history['val_loss'], label='val loss')\n",
    "\n",
    "plt.xlabel('epoch')\n",
    "plt.ylabel('loss')\n",
    "plt.title('Loss vs Epochs')\n",
    "plt.legend()\n",
    "plt.show();"
   ]
  },
  {
   "cell_type": "markdown",
   "id": "2e6d4cad",
   "metadata": {},
   "source": [
    "# Check Performace on Test Data"
   ]
  },
  {
   "cell_type": "markdown",
   "id": "c41212ac",
   "metadata": {},
   "source": [
    "#### Processing the Test Data"
   ]
  },
  {
   "cell_type": "code",
   "execution_count": 41,
   "id": "d7a360bf",
   "metadata": {},
   "outputs": [
    {
     "data": {
      "text/plain": [
       "(12630, 8)"
      ]
     },
     "execution_count": 41,
     "metadata": {},
     "output_type": "execute_result"
    }
   ],
   "source": [
    "test_df = pd.read_csv('Test.csv')\n",
    "test_df.shape"
   ]
  },
  {
   "cell_type": "code",
   "execution_count": 42,
   "id": "651d6989",
   "metadata": {},
   "outputs": [
    {
     "data": {
      "text/html": [
       "<div>\n",
       "<style scoped>\n",
       "    .dataframe tbody tr th:only-of-type {\n",
       "        vertical-align: middle;\n",
       "    }\n",
       "\n",
       "    .dataframe tbody tr th {\n",
       "        vertical-align: top;\n",
       "    }\n",
       "\n",
       "    .dataframe thead th {\n",
       "        text-align: right;\n",
       "    }\n",
       "</style>\n",
       "<table border=\"1\" class=\"dataframe\">\n",
       "  <thead>\n",
       "    <tr style=\"text-align: right;\">\n",
       "      <th></th>\n",
       "      <th>Width</th>\n",
       "      <th>Height</th>\n",
       "      <th>Roi.X1</th>\n",
       "      <th>Roi.Y1</th>\n",
       "      <th>Roi.X2</th>\n",
       "      <th>Roi.Y2</th>\n",
       "      <th>ClassId</th>\n",
       "      <th>Path</th>\n",
       "    </tr>\n",
       "  </thead>\n",
       "  <tbody>\n",
       "    <tr>\n",
       "      <th>0</th>\n",
       "      <td>53</td>\n",
       "      <td>54</td>\n",
       "      <td>6</td>\n",
       "      <td>5</td>\n",
       "      <td>48</td>\n",
       "      <td>49</td>\n",
       "      <td>16</td>\n",
       "      <td>Test/00000.png</td>\n",
       "    </tr>\n",
       "    <tr>\n",
       "      <th>1</th>\n",
       "      <td>42</td>\n",
       "      <td>45</td>\n",
       "      <td>5</td>\n",
       "      <td>5</td>\n",
       "      <td>36</td>\n",
       "      <td>40</td>\n",
       "      <td>1</td>\n",
       "      <td>Test/00001.png</td>\n",
       "    </tr>\n",
       "    <tr>\n",
       "      <th>2</th>\n",
       "      <td>48</td>\n",
       "      <td>52</td>\n",
       "      <td>6</td>\n",
       "      <td>6</td>\n",
       "      <td>43</td>\n",
       "      <td>47</td>\n",
       "      <td>38</td>\n",
       "      <td>Test/00002.png</td>\n",
       "    </tr>\n",
       "    <tr>\n",
       "      <th>3</th>\n",
       "      <td>27</td>\n",
       "      <td>29</td>\n",
       "      <td>5</td>\n",
       "      <td>5</td>\n",
       "      <td>22</td>\n",
       "      <td>24</td>\n",
       "      <td>33</td>\n",
       "      <td>Test/00003.png</td>\n",
       "    </tr>\n",
       "    <tr>\n",
       "      <th>4</th>\n",
       "      <td>60</td>\n",
       "      <td>57</td>\n",
       "      <td>5</td>\n",
       "      <td>5</td>\n",
       "      <td>55</td>\n",
       "      <td>52</td>\n",
       "      <td>11</td>\n",
       "      <td>Test/00004.png</td>\n",
       "    </tr>\n",
       "  </tbody>\n",
       "</table>\n",
       "</div>"
      ],
      "text/plain": [
       "   Width  Height  Roi.X1  Roi.Y1  Roi.X2  Roi.Y2  ClassId            Path\n",
       "0     53      54       6       5      48      49       16  Test/00000.png\n",
       "1     42      45       5       5      36      40        1  Test/00001.png\n",
       "2     48      52       6       6      43      47       38  Test/00002.png\n",
       "3     27      29       5       5      22      24       33  Test/00003.png\n",
       "4     60      57       5       5      55      52       11  Test/00004.png"
      ]
     },
     "execution_count": 42,
     "metadata": {},
     "output_type": "execute_result"
    }
   ],
   "source": [
    "test_df.head()"
   ]
  },
  {
   "cell_type": "code",
   "execution_count": 43,
   "id": "af32d2d9",
   "metadata": {},
   "outputs": [],
   "source": [
    "label = test_df['ClassId'].values\n",
    "imgs = test_df['Path'].values\n",
    "test_data = []\n",
    "\n",
    "for img in imgs:\n",
    "    image = Image.open(img)\n",
    "    image = image.resize((30,30))\n",
    "    test_data.append(np.array(image))\n",
    "X_test = np.array(test_data)"
   ]
  },
  {
   "cell_type": "code",
   "execution_count": 44,
   "id": "9a5e2d4e",
   "metadata": {},
   "outputs": [
    {
     "data": {
      "text/plain": [
       "array([[[[116, 140, 175],\n",
       "         [116, 138, 171],\n",
       "         [119, 138, 173],\n",
       "         ...,\n",
       "         [102, 119, 150],\n",
       "         [101, 122, 149],\n",
       "         [ 93, 112, 139]],\n",
       "\n",
       "        [[116, 142, 177],\n",
       "         [116, 141, 175],\n",
       "         [117, 141, 174],\n",
       "         ...,\n",
       "         [120, 143, 178],\n",
       "         [122, 144, 176],\n",
       "         [122, 142, 174]],\n",
       "\n",
       "        [[118, 142, 174],\n",
       "         [116, 141, 175],\n",
       "         [114, 140, 172],\n",
       "         ...,\n",
       "         [121, 144, 181],\n",
       "         [122, 144, 180],\n",
       "         [119, 142, 178]],\n",
       "\n",
       "        ...,\n",
       "\n",
       "        [[117, 137, 168],\n",
       "         [115, 135, 165],\n",
       "         [116, 135, 164],\n",
       "         ...,\n",
       "         [116, 138, 170],\n",
       "         [116, 136, 168],\n",
       "         [118, 139, 171]],\n",
       "\n",
       "        [[116, 136, 166],\n",
       "         [115, 134, 167],\n",
       "         [115, 133, 165],\n",
       "         ...,\n",
       "         [114, 135, 168],\n",
       "         [116, 136, 166],\n",
       "         [115, 139, 167]],\n",
       "\n",
       "        [[112, 135, 166],\n",
       "         [111, 134, 165],\n",
       "         [119, 135, 166],\n",
       "         ...,\n",
       "         [115, 137, 166],\n",
       "         [117, 138, 167],\n",
       "         [114, 140, 170]]],\n",
       "\n",
       "\n",
       "       [[[ 62,  72,  61],\n",
       "         [ 89,  81,  63],\n",
       "         [ 94,  82,  65],\n",
       "         ...,\n",
       "         [ 78,  64,  68],\n",
       "         [ 72,  65,  67],\n",
       "         [ 74,  68,  68]],\n",
       "\n",
       "        [[ 64,  72,  60],\n",
       "         [ 97,  83,  65],\n",
       "         [ 97,  81,  63],\n",
       "         ...,\n",
       "         [ 75,  63,  65],\n",
       "         [ 93,  69,  71],\n",
       "         [ 88,  68,  68]],\n",
       "\n",
       "        [[ 59,  71,  60],\n",
       "         [ 91,  83,  66],\n",
       "         [ 95,  81,  63],\n",
       "         ...,\n",
       "         [ 68,  63,  63],\n",
       "         [ 76,  67,  68],\n",
       "         [ 78,  69,  70]],\n",
       "\n",
       "        ...,\n",
       "\n",
       "        [[ 52,  51,  46],\n",
       "         [ 81,  69,  58],\n",
       "         [ 80,  67,  57],\n",
       "         ...,\n",
       "         [ 70,  63,  63],\n",
       "         [ 83,  67,  66],\n",
       "         [ 78,  66,  67]],\n",
       "\n",
       "        [[ 53,  50,  48],\n",
       "         [ 80,  67,  62],\n",
       "         [ 78,  65,  59],\n",
       "         ...,\n",
       "         [ 59,  59,  61],\n",
       "         [ 67,  65,  64],\n",
       "         [ 72,  66,  66]],\n",
       "\n",
       "        [[ 54,  49,  48],\n",
       "         [ 80,  66,  62],\n",
       "         [ 78,  66,  58],\n",
       "         ...,\n",
       "         [ 62,  58,  61],\n",
       "         [ 72,  66,  69],\n",
       "         [ 75,  70,  70]]],\n",
       "\n",
       "\n",
       "       [[[ 52,  40,  38],\n",
       "         [ 51,  39,  37],\n",
       "         [ 50,  38,  37],\n",
       "         ...,\n",
       "         [ 52,  44,  47],\n",
       "         [ 54,  45,  48],\n",
       "         [ 55,  46,  48]],\n",
       "\n",
       "        [[ 60,  45,  42],\n",
       "         [ 59,  45,  41],\n",
       "         [ 57,  44,  40],\n",
       "         ...,\n",
       "         [ 51,  41,  40],\n",
       "         [ 53,  42,  43],\n",
       "         [ 54,  44,  43]],\n",
       "\n",
       "        [[ 68,  50,  46],\n",
       "         [ 66,  51,  46],\n",
       "         [ 68,  50,  46],\n",
       "         ...,\n",
       "         [ 59,  44,  40],\n",
       "         [ 57,  43,  40],\n",
       "         [ 57,  44,  41]],\n",
       "\n",
       "        ...,\n",
       "\n",
       "        [[ 27,  23,  25],\n",
       "         [ 28,  25,  27],\n",
       "         [ 28,  26,  29],\n",
       "         ...,\n",
       "         [ 25,  22,  23],\n",
       "         [ 26,  24,  23],\n",
       "         [ 27,  25,  25]],\n",
       "\n",
       "        [[ 31,  28,  29],\n",
       "         [ 36,  31,  33],\n",
       "         [ 40,  35,  37],\n",
       "         ...,\n",
       "         [ 33,  31,  28],\n",
       "         [ 38,  37,  35],\n",
       "         [ 44,  42,  42]],\n",
       "\n",
       "        [[ 33,  30,  31],\n",
       "         [ 35,  29,  29],\n",
       "         [ 47,  36,  34],\n",
       "         ...,\n",
       "         [ 41,  40,  37],\n",
       "         [ 44,  43,  43],\n",
       "         [ 48,  47,  44]]],\n",
       "\n",
       "\n",
       "       ...,\n",
       "\n",
       "\n",
       "       [[[ 24,  27,  34],\n",
       "         [ 23,  25,  32],\n",
       "         [ 24,  25,  32],\n",
       "         ...,\n",
       "         [ 26,  27,  33],\n",
       "         [ 26,  27,  34],\n",
       "         [ 26,  27,  34]],\n",
       "\n",
       "        [[ 25,  26,  33],\n",
       "         [ 25,  26,  34],\n",
       "         [ 26,  26,  33],\n",
       "         ...,\n",
       "         [ 26,  27,  34],\n",
       "         [ 27,  27,  35],\n",
       "         [ 28,  28,  36]],\n",
       "\n",
       "        [[ 26,  26,  32],\n",
       "         [ 25,  25,  32],\n",
       "         [ 24,  24,  30],\n",
       "         ...,\n",
       "         [ 26,  27,  33],\n",
       "         [ 27,  27,  33],\n",
       "         [ 27,  26,  33]],\n",
       "\n",
       "        ...,\n",
       "\n",
       "        [[ 16,  17,  21],\n",
       "         [ 15,  16,  21],\n",
       "         [ 14,  16,  21],\n",
       "         ...,\n",
       "         [ 19,  21,  29],\n",
       "         [ 21,  23,  33],\n",
       "         [ 19,  21,  30]],\n",
       "\n",
       "        [[ 16,  17,  22],\n",
       "         [ 15,  16,  21],\n",
       "         [ 14,  16,  21],\n",
       "         ...,\n",
       "         [ 19,  21,  30],\n",
       "         [ 20,  22,  32],\n",
       "         [ 19,  22,  32]],\n",
       "\n",
       "        [[ 15,  16,  21],\n",
       "         [ 15,  16,  21],\n",
       "         [ 14,  16,  21],\n",
       "         ...,\n",
       "         [ 18,  21,  30],\n",
       "         [ 19,  22,  32],\n",
       "         [ 18,  22,  31]]],\n",
       "\n",
       "\n",
       "       [[[ 46,  56,  71],\n",
       "         [ 48,  52,  65],\n",
       "         [ 58,  55,  57],\n",
       "         ...,\n",
       "         [ 42,  40,  50],\n",
       "         [ 15,  12,  15],\n",
       "         [  9,   8,  11]],\n",
       "\n",
       "        [[ 61,  69,  84],\n",
       "         [ 63,  61,  76],\n",
       "         [ 61,  59,  67],\n",
       "         ...,\n",
       "         [ 28,  26,  36],\n",
       "         [ 16,  12,  11],\n",
       "         [ 11,   9,  10]],\n",
       "\n",
       "        [[ 67,  75,  94],\n",
       "         [ 71,  79, 100],\n",
       "         [ 70,  78,  96],\n",
       "         ...,\n",
       "         [ 40,  42,  44],\n",
       "         [ 29,  24,  18],\n",
       "         [ 14,   8,   9]],\n",
       "\n",
       "        ...,\n",
       "\n",
       "        [[ 18,  18,  21],\n",
       "         [ 16,  16,  19],\n",
       "         [ 15,  14,  18],\n",
       "         ...,\n",
       "         [ 33,  32,  37],\n",
       "         [ 37,  38,  45],\n",
       "         [ 26,  26,  27]],\n",
       "\n",
       "        [[ 13,  12,  15],\n",
       "         [ 13,  12,  14],\n",
       "         [ 12,  10,  13],\n",
       "         ...,\n",
       "         [ 26,  27,  31],\n",
       "         [ 32,  34,  39],\n",
       "         [ 29,  29,  26]],\n",
       "\n",
       "        [[ 13,  11,  14],\n",
       "         [ 12,  11,  14],\n",
       "         [ 12,  10,  11],\n",
       "         ...,\n",
       "         [ 28,  31,  39],\n",
       "         [ 35,  37,  40],\n",
       "         [ 31,  29,  25]]],\n",
       "\n",
       "\n",
       "       [[[ 10,  10,  13],\n",
       "         [ 10,  10,  13],\n",
       "         [ 10,   9,  12],\n",
       "         ...,\n",
       "         [ 13,  12,  15],\n",
       "         [ 13,  12,  15],\n",
       "         [ 13,  12,  16]],\n",
       "\n",
       "        [[ 12,  11,  14],\n",
       "         [  9,   9,  12],\n",
       "         [  9,   9,  12],\n",
       "         ...,\n",
       "         [ 13,  12,  14],\n",
       "         [ 13,  12,  15],\n",
       "         [ 13,  12,  16]],\n",
       "\n",
       "        [[ 11,   9,  11],\n",
       "         [  9,   8,  11],\n",
       "         [  9,   9,  12],\n",
       "         ...,\n",
       "         [ 13,  12,  14],\n",
       "         [ 13,  12,  15],\n",
       "         [ 13,  12,  16]],\n",
       "\n",
       "        ...,\n",
       "\n",
       "        [[ 11,   9,  13],\n",
       "         [ 10,   9,  12],\n",
       "         [ 11,  10,  13],\n",
       "         ...,\n",
       "         [ 11,  10,  13],\n",
       "         [ 10,   9,  12],\n",
       "         [ 12,  11,  14]],\n",
       "\n",
       "        [[ 11,  10,  14],\n",
       "         [ 11,  10,  14],\n",
       "         [ 11,  10,  14],\n",
       "         ...,\n",
       "         [  9,   9,  12],\n",
       "         [  9,   9,  11],\n",
       "         [ 12,  11,  13]],\n",
       "\n",
       "        [[ 10,  10,  13],\n",
       "         [ 10,   9,  12],\n",
       "         [ 11,   9,  12],\n",
       "         ...,\n",
       "         [ 10,  10,  13],\n",
       "         [  9,  10,  12],\n",
       "         [ 11,  11,  13]]]], dtype=uint8)"
      ]
     },
     "execution_count": 44,
     "metadata": {},
     "output_type": "execute_result"
    }
   ],
   "source": [
    "X_test"
   ]
  },
  {
   "cell_type": "markdown",
   "id": "9cd08749",
   "metadata": {},
   "source": [
    "#### Test using Model_1"
   ]
  },
  {
   "cell_type": "code",
   "execution_count": 45,
   "id": "db8cff64",
   "metadata": {
    "scrolled": true
   },
   "outputs": [
    {
     "name": "stdout",
     "output_type": "stream",
     "text": [
      "395/395 [==============================] - 6s 14ms/step\n"
     ]
    },
    {
     "data": {
      "text/plain": [
       "array([[0., 0., 0., ..., 0., 0., 0.],\n",
       "       [0., 1., 0., ..., 0., 0., 0.],\n",
       "       [0., 0., 0., ..., 0., 0., 0.],\n",
       "       ...,\n",
       "       [0., 0., 0., ..., 0., 0., 0.],\n",
       "       [0., 0., 0., ..., 0., 0., 0.],\n",
       "       [0., 0., 0., ..., 0., 0., 0.]], dtype=float32)"
      ]
     },
     "execution_count": 45,
     "metadata": {},
     "output_type": "execute_result"
    }
   ],
   "source": [
    "# Prediction on test data using model_1\n",
    "y_pred = model_1.predict(X_test)\n",
    "y_pred"
   ]
  },
  {
   "cell_type": "code",
   "execution_count": 46,
   "id": "0df6010c",
   "metadata": {},
   "outputs": [
    {
     "data": {
      "text/plain": [
       "array([16,  1, 38, ...,  6,  7, 10], dtype=int64)"
      ]
     },
     "execution_count": 46,
     "metadata": {},
     "output_type": "execute_result"
    }
   ],
   "source": [
    "label"
   ]
  },
  {
   "cell_type": "code",
   "execution_count": 47,
   "id": "c39f5e6b",
   "metadata": {},
   "outputs": [],
   "source": [
    "pred_label = np.argmax(y_pred, axis = -1)"
   ]
  },
  {
   "cell_type": "code",
   "execution_count": 48,
   "id": "6ec2a55e",
   "metadata": {},
   "outputs": [
    {
     "name": "stdout",
     "output_type": "stream",
     "text": [
      "0.9403008709422012\n"
     ]
    }
   ],
   "source": [
    "from sklearn.metrics import accuracy_score\n",
    "print(accuracy_score(label, pred_label))"
   ]
  },
  {
   "cell_type": "markdown",
   "id": "b29fda49",
   "metadata": {},
   "source": [
    "#### Test using Model_2"
   ]
  },
  {
   "cell_type": "code",
   "execution_count": 49,
   "id": "bd200052",
   "metadata": {},
   "outputs": [
    {
     "name": "stdout",
     "output_type": "stream",
     "text": [
      "395/395 [==============================] - 4s 10ms/step\n",
      "0.9554235946159937\n"
     ]
    }
   ],
   "source": [
    "y_pred = model_2.predict(X_test)\n",
    "\n",
    "label_pred = np.argmax(y_pred, axis=-1)\n",
    "\n",
    "print(accuracy_score(label, label_pred))"
   ]
  },
  {
   "cell_type": "markdown",
   "id": "bd65911e",
   "metadata": {},
   "source": [
    "#### Test using Model_3"
   ]
  },
  {
   "cell_type": "code",
   "execution_count": 50,
   "id": "137ee554",
   "metadata": {},
   "outputs": [
    {
     "name": "stdout",
     "output_type": "stream",
     "text": [
      "395/395 [==============================] - 4s 11ms/step\n",
      "0.8460015835312747\n"
     ]
    }
   ],
   "source": [
    "y_pred = model_3.predict(X_test)\n",
    "\n",
    "label_pred = np.argmax(y_pred, axis=-1)\n",
    "\n",
    "print(accuracy_score(label, label_pred))"
   ]
  },
  {
   "cell_type": "markdown",
   "id": "a34f91a1",
   "metadata": {},
   "source": [
    "### Select and Save the best model"
   ]
  },
  {
   "cell_type": "markdown",
   "id": "2838d968",
   "metadata": {},
   "source": [
    "Hence we can see that model 2 shows the best performance than othe two models in both of training , validation and testing fage, we are going to save model_2"
   ]
  },
  {
   "cell_type": "code",
   "execution_count": 51,
   "id": "3f5ee32a",
   "metadata": {},
   "outputs": [],
   "source": [
    "# Save model_2 for future use\n",
    "model_2.save('./training/TSR_model.h5')"
   ]
  },
  {
   "cell_type": "markdown",
   "id": "1253792d",
   "metadata": {},
   "source": [
    "# Load the Model"
   ]
  },
  {
   "cell_type": "code",
   "execution_count": 52,
   "id": "8e18fa74",
   "metadata": {},
   "outputs": [],
   "source": [
    "from keras.models import load_model\n",
    "model = load_model('./training/TSR_model.h5')"
   ]
  },
  {
   "cell_type": "code",
   "execution_count": 53,
   "id": "c42c91ba",
   "metadata": {},
   "outputs": [],
   "source": [
    "# Classes of trafic signs\n",
    "# These are given in the meta folder of the dataset\n",
    "classes = { 0:'Speed limit (20km/h)',\n",
    "            1:'Speed limit (30km/h)', \n",
    "            2:'Speed limit (50km/h)', \n",
    "            3:'Speed limit (60km/h)', \n",
    "            4:'Speed limit (70km/h)', \n",
    "            5:'Speed limit (80km/h)', \n",
    "            6:'End of speed limit (80km/h)', \n",
    "            7:'Speed limit (100km/h)', \n",
    "            8:'Speed limit (120km/h)', \n",
    "            9:'No passing', \n",
    "            10:'No passing veh over 3.5 tons', \n",
    "            11:'Right-of-way at intersection', \n",
    "            12:'Priority road', \n",
    "            13:'Yield', \n",
    "            14:'Stop', \n",
    "            15:'No vehicles', \n",
    "            16:'Veh > 3.5 tons prohibited', \n",
    "            17:'No entry', \n",
    "            18:'General caution', \n",
    "            19:'Dangerous curve left', \n",
    "            20:'Dangerous curve right', \n",
    "            21:'Double curve', \n",
    "            22:'Bumpy road', \n",
    "            23:'Slippery road', \n",
    "            24:'Road narrows on the right', \n",
    "            25:'Road work', \n",
    "            26:'Traffic signals', \n",
    "            27:'Pedestrians', \n",
    "            28:'Children crossing', \n",
    "            29:'Bicycles crossing', \n",
    "            30:'Beware of ice/snow',\n",
    "            31:'Wild animals crossing', \n",
    "            32:'End speed + passing limits', \n",
    "            33:'Turn right ahead', \n",
    "            34:'Turn left ahead', \n",
    "            35:'Ahead only', \n",
    "            36:'Go straight or right', \n",
    "            37:'Go straight or left', \n",
    "            38:'Keep right', \n",
    "            39:'Keep left', \n",
    "            40:'Roundabout mandatory', \n",
    "            41:'End of no passing', \n",
    "            42:'End no passing veh > 3.5 tons' }"
   ]
  },
  {
   "cell_type": "code",
   "execution_count": 54,
   "id": "71f6f431",
   "metadata": {},
   "outputs": [],
   "source": [
    "def model_test_on_img(img):\n",
    "    data = []\n",
    "    image = Image.open(img)\n",
    "    image = image.resize((30,30))\n",
    "    data.append(np.array(image))\n",
    "    X_test = np.array(data)\n",
    "    y_pred = model.predict(X_test)\n",
    "    label_pred = np.argmax(y_pred, axis=-1)\n",
    "    img_class = classes[label_pred[0]]\n",
    "    return image, img_class"
   ]
  },
  {
   "cell_type": "code",
   "execution_count": 55,
   "id": "d0c46e69",
   "metadata": {},
   "outputs": [
    {
     "name": "stdout",
     "output_type": "stream",
     "text": [
      "1/1 [==============================] - 0s 109ms/step\n"
     ]
    },
    {
     "data": {
      "text/plain": [
       "(<PIL.Image.Image image mode=RGB size=30x30 at 0x1EB6163AE50>,\n",
       " 'Turn left ahead')"
      ]
     },
     "execution_count": 55,
     "metadata": {},
     "output_type": "execute_result"
    }
   ],
   "source": [
    "model_test_on_img(r'E:\\Data Science Machine Learning Study\\Deep Learning Projects\\Traffic_Sign_Detection\\Test\\00032.png')"
   ]
  },
  {
   "cell_type": "code",
   "execution_count": 56,
   "id": "db57f8dc",
   "metadata": {},
   "outputs": [
    {
     "name": "stdout",
     "output_type": "stream",
     "text": [
      "1/1 [==============================] - 0s 16ms/step\n",
      "Turn left ahead\n"
     ]
    },
    {
     "data": {
      "image/png": "[encoded data removed]",
      "text/plain": [
       "<Figure size 432x288 with 1 Axes>"
      ]
     },
     "metadata": {
      "needs_background": "light"
     },
     "output_type": "display_data"
    }
   ],
   "source": [
    "# Test on a random image\n",
    "img, predicted_class = model_test_on_img(r'E:\\Data Science Machine Learning Study\\Deep Learning Projects\\Traffic_Sign_Detection\\Test\\00032.png')\n",
    "\n",
    "# print predicted class\n",
    "print(predicted_class)\n",
    "\n",
    "# show the selected image\n",
    "plt.imshow(img)\n",
    "plt.show();"
   ]
  },
  {
   "cell_type": "code",
   "execution_count": 57,
   "id": "507c3674",
   "metadata": {},
   "outputs": [
    {
     "name": "stdout",
     "output_type": "stream",
     "text": [
      "1/1 [==============================] - 0s 16ms/step\n",
      "Right-of-way at intersection\n"
     ]
    },
    {
     "data": {
      "image/png": "[encoded data removed]",
      "text/plain": [
       "<Figure size 432x288 with 1 Axes>"
      ]
     },
     "metadata": {
      "needs_background": "light"
     },
     "output_type": "display_data"
    }
   ],
   "source": [
    "# Test on a random image\n",
    "img, predicted_class = model_test_on_img(r'.\\Test\\00004.png')\n",
    "\n",
    "# print predicted class\n",
    "print(predicted_class)\n",
    "\n",
    "# show the selected image\n",
    "plt.imshow(img)\n",
    "plt.show();"
   ]
  },
  {
   "cell_type": "code",
   "execution_count": 78,
   "id": "739031f5",
   "metadata": {},
   "outputs": [
    {
     "data": {
      "text/plain": [
       "array([ 0,  0,  0, ..., 42, 42, 42])"
      ]
     },
     "execution_count": 78,
     "metadata": {},
     "output_type": "execute_result"
    }
   ],
   "source": [
    "labels"
   ]
  },
  {
   "cell_type": "code",
   "execution_count": null,
   "id": "8925a4e1",
   "metadata": {},
   "outputs": [],
   "source": []
  }
 ],
 "metadata": {
  "kernelspec": {
   "display_name": "Python 3 (ipykernel)",
   "language": "python",
   "name": "python3"
  },
  "language_info": {
   "codemirror_mode": {
    "name": "ipython",
    "version": 3
   },
   "file_extension": ".py",
   "mimetype": "text/x-python",
   "name": "python",
   "nbconvert_exporter": "python",
   "pygments_lexer": "ipython3",
   "version": "3.9.12"
  }
 },
 "nbformat": 4,
 "nbformat_minor": 5
}
