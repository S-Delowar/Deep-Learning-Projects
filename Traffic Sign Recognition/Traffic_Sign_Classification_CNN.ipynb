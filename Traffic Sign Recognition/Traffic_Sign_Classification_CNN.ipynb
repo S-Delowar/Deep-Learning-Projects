{
 "cells": [
  {
   "cell_type": "code",
   "execution_count": 1,
   "id": "273fc283",
   "metadata": {},
   "outputs": [],
   "source": [
    "import numpy as np\n",
    "import pandas as pd\n",
    "import matplotlib.pyplot as plt\n",
    "import cv2\n",
    "import tensorflow as tf\n",
    "from PIL import Image\n",
    "import os\n",
    "import warnings\n",
    "warnings.filterwarnings('ignore')"
   ]
  },
  {
   "cell_type": "code",
   "execution_count": 2,
   "id": "152dfa2e",
   "metadata": {},
   "outputs": [],
   "source": [
    "from sklearn.model_selection import train_test_split "
   ]
  },
  {
   "cell_type": "code",
   "execution_count": 3,
   "id": "146cb19d",
   "metadata": {},
   "outputs": [],
   "source": [
    "from keras.utils import to_categorical\n",
    "from keras.models import Sequential, load_model\n",
    "from keras.layers import Dense, Conv2D, MaxPool2D, AveragePooling2D, Flatten, Dropout, BatchNormalization"
   ]
  },
  {
   "cell_type": "code",
   "execution_count": 4,
   "id": "244c95db",
   "metadata": {},
   "outputs": [],
   "source": [
    "os.chdir('E:\\Data Science Machine Learning Study\\Deep Learning Projects\\Traffic_Sign_Detection')"
   ]
  },
  {
   "cell_type": "markdown",
   "id": "1c91c339",
   "metadata": {},
   "source": [
    "# Storing Data, Label in the List"
   ]
  },
  {
   "cell_type": "code",
   "execution_count": 5,
   "id": "1121f33d",
   "metadata": {},
   "outputs": [],
   "source": [
    "data = []\n",
    "labels = []\n",
    "\n",
    "# 43 classes we have\n",
    "classes = 43\n",
    "curr_path = os.getcwd()"
   ]
  },
  {
   "cell_type": "code",
   "execution_count": 6,
   "id": "797d96ad",
   "metadata": {},
   "outputs": [
    {
     "data": {
      "text/plain": [
       "'E:\\\\Data Science Machine Learning Study\\\\Deep Learning Projects\\\\Traffic_Sign_Detection'"
      ]
     },
     "execution_count": 6,
     "metadata": {},
     "output_type": "execute_result"
    }
   ],
   "source": [
    "curr_path"
   ]
  },
  {
   "cell_type": "markdown",
   "id": "9b11739f",
   "metadata": {},
   "source": [
    "# Preprocessing the images"
   ]
  },
  {
   "cell_type": "code",
   "execution_count": 7,
   "id": "dbd63e2b",
   "metadata": {},
   "outputs": [],
   "source": [
    "for i in range(classes):\n",
    "    path = os.path.join(curr_path, 'Train', str(i))\n",
    "    images = os.listdir(path)\n",
    "    for a in images:\n",
    "        try:\n",
    "            img = Image.open(path + '\\\\' + a)\n",
    "            img = img.resize((30,30))\n",
    "            img = np.array(img)\n",
    "            data.append(img)\n",
    "            labels.append(i)\n",
    "        except Exception:\n",
    "            print(\"Error in image processing\")"
   ]
  },
  {
   "cell_type": "code",
   "execution_count": 8,
   "id": "ac54bf42",
   "metadata": {},
   "outputs": [],
   "source": [
    "data = np.array(data)\n",
    "labels = np.array(labels)"
   ]
  },
  {
   "cell_type": "code",
   "execution_count": 9,
   "id": "39704b96",
   "metadata": {
    "scrolled": true
   },
   "outputs": [
    {
     "data": {
      "text/plain": [
       "array([ 0,  0,  0, ..., 42, 42, 42])"
      ]
     },
     "execution_count": 9,
     "metadata": {},
     "output_type": "execute_result"
    }
   ],
   "source": [
    "labels"
   ]
  },
  {
   "cell_type": "markdown",
   "id": "a131f47d",
   "metadata": {},
   "source": [
    "# Save Data and Label for Future Use"
   ]
  },
  {
   "cell_type": "code",
   "execution_count": 10,
   "id": "3f588b4f",
   "metadata": {},
   "outputs": [],
   "source": [
    "os.mkdir('training')\n",
    "\n",
    "np.save('./training/data', data)\n",
    "np.save('./training/target', labels)"
   ]
  },
  {
   "cell_type": "markdown",
   "id": "9d198357",
   "metadata": {},
   "source": [
    "# Load Data and Label"
   ]
  },
  {
   "cell_type": "code",
   "execution_count": 11,
   "id": "8fded76d",
   "metadata": {},
   "outputs": [],
   "source": [
    "data = np.load('./training/data.npy')\n",
    "labels = np.load('./training/target.npy')"
   ]
  },
  {
   "cell_type": "code",
   "execution_count": 12,
   "id": "0562098c",
   "metadata": {},
   "outputs": [
    {
     "name": "stdout",
     "output_type": "stream",
     "text": [
      "(39209, 30, 30, 3) (39209,)\n"
     ]
    }
   ],
   "source": [
    "print(data.shape, labels.shape)"
   ]
  },
  {
   "cell_type": "markdown",
   "id": "3dc6d2ea",
   "metadata": {},
   "source": [
    "## Spliting into training and testing data"
   ]
  },
  {
   "cell_type": "code",
   "execution_count": 13,
   "id": "c4f151ac",
   "metadata": {},
   "outputs": [],
   "source": [
    "X_train, X_test, y_train, y_test = train_test_split(data, labels, test_size= 0.25, random_state= 42)"
   ]
  },
  {
   "cell_type": "code",
   "execution_count": 14,
   "id": "c02f5974",
   "metadata": {},
   "outputs": [
    {
     "name": "stdout",
     "output_type": "stream",
     "text": [
      "(29406, 30, 30, 3) (9803, 30, 30, 3) (29406,) (9803,)\n"
     ]
    }
   ],
   "source": [
    "print(X_train.shape, X_test.shape, y_train.shape, y_test.shape)"
   ]
  },
  {
   "cell_type": "code",
   "execution_count": 15,
   "id": "2a074cec",
   "metadata": {},
   "outputs": [
    {
     "data": {
      "text/plain": [
       "array([[[49, 60, 55],\n",
       "        [49, 59, 52],\n",
       "        [52, 60, 53],\n",
       "        ...,\n",
       "        [64, 65, 60],\n",
       "        [60, 59, 56],\n",
       "        [57, 55, 50]],\n",
       "\n",
       "       [[53, 62, 58],\n",
       "        [49, 57, 53],\n",
       "        [51, 58, 54],\n",
       "        ...,\n",
       "        [60, 62, 56],\n",
       "        [59, 60, 56],\n",
       "        [57, 55, 50]],\n",
       "\n",
       "       [[47, 58, 55],\n",
       "        [42, 52, 50],\n",
       "        [42, 51, 49],\n",
       "        ...,\n",
       "        [60, 61, 50],\n",
       "        [59, 60, 51],\n",
       "        [61, 60, 52]],\n",
       "\n",
       "       ...,\n",
       "\n",
       "       [[44, 46, 36],\n",
       "        [48, 51, 39],\n",
       "        [54, 56, 42],\n",
       "        ...,\n",
       "        [63, 66, 54],\n",
       "        [63, 67, 59],\n",
       "        [56, 63, 56]],\n",
       "\n",
       "       [[44, 46, 37],\n",
       "        [43, 46, 37],\n",
       "        [49, 50, 38],\n",
       "        ...,\n",
       "        [57, 57, 46],\n",
       "        [62, 63, 55],\n",
       "        [56, 61, 54]],\n",
       "\n",
       "       [[51, 54, 46],\n",
       "        [47, 51, 42],\n",
       "        [46, 48, 37],\n",
       "        ...,\n",
       "        [59, 56, 46],\n",
       "        [66, 63, 55],\n",
       "        [64, 65, 57]]], dtype=uint8)"
      ]
     },
     "execution_count": 15,
     "metadata": {},
     "output_type": "execute_result"
    }
   ],
   "source": [
    "X_train[110]"
   ]
  },
  {
   "cell_type": "code",
   "execution_count": 16,
   "id": "c1978c91",
   "metadata": {},
   "outputs": [
    {
     "data": {
      "image/png": "[encoded data removed]",
      "text/plain": [
       "<Figure size 432x288 with 1 Axes>"
      ]
     },
     "metadata": {
      "needs_background": "light"
     },
     "output_type": "display_data"
    }
   ],
   "source": [
    "img = X_train[5400]\n",
    "plt.imshow(img, cmap='gray');"
   ]
  },
  {
   "cell_type": "code",
   "execution_count": 17,
   "id": "b63b7f3f",
   "metadata": {},
   "outputs": [
    {
     "data": {
      "image/png": "[encoded data removed]",
      "text/plain": [
       "<Figure size 432x288 with 1 Axes>"
      ]
     },
     "metadata": {
      "needs_background": "light"
     },
     "output_type": "display_data"
    }
   ],
   "source": [
    "img_ = X_test[3350]\n",
    "plt.imshow(img_, cmap='gray');"
   ]
  },
  {
   "cell_type": "markdown",
   "id": "4c829a1a",
   "metadata": {},
   "source": [
    "## Encoding the Labels (one-hot encoding)"
   ]
  },
  {
   "cell_type": "code",
   "execution_count": 18,
   "id": "5f215a19",
   "metadata": {},
   "outputs": [],
   "source": [
    "y_train = to_categorical(y_train, 43)\n",
    "y_test = to_categorical(y_test, 43)"
   ]
  },
  {
   "cell_type": "code",
   "execution_count": 19,
   "id": "ae7e123c",
   "metadata": {},
   "outputs": [],
   "source": [
    "X_train = X_train.astype('float32') / 255\n",
    "X_test = X_test.astype('float32') / 255"
   ]
  },
  {
   "cell_type": "code",
   "execution_count": 20,
   "id": "a022a9e8",
   "metadata": {},
   "outputs": [
    {
     "data": {
      "text/plain": [
       "array([[[1.        , 1.        , 1.        ],\n",
       "        [1.        , 1.        , 1.        ],\n",
       "        [1.        , 1.        , 1.        ],\n",
       "        ...,\n",
       "        [1.        , 1.        , 1.        ],\n",
       "        [1.        , 1.        , 1.        ],\n",
       "        [1.        , 1.        , 1.        ]],\n",
       "\n",
       "       [[0.99607843, 1.        , 1.        ],\n",
       "        [1.        , 1.        , 1.        ],\n",
       "        [1.        , 1.        , 1.        ],\n",
       "        ...,\n",
       "        [1.        , 1.        , 1.        ],\n",
       "        [1.        , 1.        , 1.        ],\n",
       "        [1.        , 1.        , 1.        ]],\n",
       "\n",
       "       [[0.64705884, 0.6745098 , 0.7176471 ],\n",
       "        [0.7254902 , 0.7372549 , 0.7490196 ],\n",
       "        [0.81960785, 0.84705883, 0.84313726],\n",
       "        ...,\n",
       "        [1.        , 1.        , 1.        ],\n",
       "        [1.        , 1.        , 1.        ],\n",
       "        [1.        , 1.        , 1.        ]],\n",
       "\n",
       "       ...,\n",
       "\n",
       "       [[0.6862745 , 0.7137255 , 0.7647059 ],\n",
       "        [0.67058825, 0.7137255 , 0.76862746],\n",
       "        [0.5803922 , 0.69411767, 0.7647059 ],\n",
       "        ...,\n",
       "        [0.68235296, 0.7294118 , 0.78431374],\n",
       "        [0.6862745 , 0.7137255 , 0.7764706 ],\n",
       "        [0.6862745 , 0.7176471 , 0.7764706 ]],\n",
       "\n",
       "       [[0.6745098 , 0.7176471 , 0.7647059 ],\n",
       "        [0.6509804 , 0.7058824 , 0.7607843 ],\n",
       "        [0.57254905, 0.68235296, 0.75686276],\n",
       "        ...,\n",
       "        [0.68235296, 0.7254902 , 0.7764706 ],\n",
       "        [0.6666667 , 0.7019608 , 0.76862746],\n",
       "        [0.68235296, 0.7137255 , 0.7764706 ]],\n",
       "\n",
       "       [[0.65882355, 0.70980394, 0.76862746],\n",
       "        [0.654902  , 0.6901961 , 0.7490196 ],\n",
       "        [0.5803922 , 0.6862745 , 0.7490196 ],\n",
       "        ...,\n",
       "        [0.6745098 , 0.70980394, 0.75686276],\n",
       "        [0.68235296, 0.7058824 , 0.76862746],\n",
       "        [0.6862745 , 0.7058824 , 0.7764706 ]]], dtype=float32)"
      ]
     },
     "execution_count": 20,
     "metadata": {},
     "output_type": "execute_result"
    }
   ],
   "source": [
    "X_train[0]"
   ]
  },
  {
   "cell_type": "code",
   "execution_count": 21,
   "id": "ccba4fca",
   "metadata": {},
   "outputs": [
    {
     "data": {
      "text/plain": [
       "array([[0., 0., 0., ..., 0., 0., 0.],\n",
       "       [0., 0., 0., ..., 0., 0., 0.],\n",
       "       [0., 0., 0., ..., 0., 0., 0.],\n",
       "       ...,\n",
       "       [0., 0., 0., ..., 0., 0., 0.],\n",
       "       [0., 0., 0., ..., 0., 0., 0.],\n",
       "       [0., 0., 0., ..., 0., 0., 0.]], dtype=float32)"
      ]
     },
     "execution_count": 21,
     "metadata": {},
     "output_type": "execute_result"
    }
   ],
   "source": [
    "y_test"
   ]
  },
  {
   "cell_type": "markdown",
   "id": "3c46625f",
   "metadata": {},
   "source": [
    "# Mdel Building"
   ]
  },
  {
   "cell_type": "code",
   "execution_count": 22,
   "id": "e0d69642",
   "metadata": {},
   "outputs": [],
   "source": [
    "from keras.optimizers import Adam"
   ]
  },
  {
   "cell_type": "code",
   "execution_count": 23,
   "id": "d61a4d31",
   "metadata": {},
   "outputs": [
    {
     "data": {
      "text/plain": [
       "(30, 30, 3)"
      ]
     },
     "execution_count": 23,
     "metadata": {},
     "output_type": "execute_result"
    }
   ],
   "source": [
    "input_shape=X_train.shape[1:]\n",
    "input_shape"
   ]
  },
  {
   "cell_type": "code",
   "execution_count": null,
   "id": "11c0444f",
   "metadata": {},
   "outputs": [],
   "source": []
  },
  {
   "cell_type": "code",
   "execution_count": 24,
   "id": "bc9543d9",
   "metadata": {},
   "outputs": [],
   "source": [
    "# model building\n",
    "def build_model():\n",
    "    model = Sequential()\n",
    "    model.add(Conv2D(filters = 32, kernel_size = (5,5), strides=(1,1), padding='same', activation='relu', input_shape = (30,30,3)))\n",
    "    model.add(Conv2D(filters = 32, kernel_size = (5,5), strides=(1,1), padding='same', activation='relu'))\n",
    "    model.add(MaxPool2D(pool_size=(2,2)))\n",
    "    model.add(Dropout(rate=0.25))\n",
    "    model.add(Conv2D(filters = 64, kernel_size= (3,3), strides=(1,1), padding='same', activation='relu'))\n",
    "    model.add(MaxPool2D(pool_size=(2,2)))\n",
    "    model.add(Dropout(rate=0.25))\n",
    "    model.add(Conv2D(filters = 64, kernel_size= (3,3), strides=(1,1), padding='same', activation='relu'))\n",
    "    model.add(MaxPool2D(pool_size=(2,2)))\n",
    "    model.add(Flatten())\n",
    "\n",
    "    # Fully Connected Layer\n",
    "    model.add(Dense(units= 256, activation='relu'))\n",
    "    model.add(Dropout(rate=0.25))\n",
    "\n",
    "    # Output Layer\n",
    "    model.add(Dense(units = 43, activation='softmax'))\n",
    "\n",
    "    optimizers = Adam(learning_rate = 0.001)\n",
    "\n",
    "    model.compile(optimizer = optimizers, loss = 'categorical_crossentropy', metrics = ['accuracy'])\n",
    "\n",
    "    return model"
   ]
  },
  {
   "cell_type": "code",
   "execution_count": 25,
   "id": "ba497d02",
   "metadata": {
    "scrolled": true
   },
   "outputs": [
    {
     "name": "stdout",
     "output_type": "stream",
     "text": [
      "Model: \"sequential\"\n",
      "_________________________________________________________________\n",
      " Layer (type)                Output Shape              Param #   \n",
      "=================================================================\n",
      " conv2d (Conv2D)             (None, 30, 30, 32)        2432      \n",
      "                                                                 \n",
      " conv2d_1 (Conv2D)           (None, 30, 30, 32)        25632     \n",
      "                                                                 \n",
      " max_pooling2d (MaxPooling2D  (None, 15, 15, 32)       0         \n",
      " )                                                               \n",
      "                                                                 \n",
      " dropout (Dropout)           (None, 15, 15, 32)        0         \n",
      "                                                                 \n",
      " conv2d_2 (Conv2D)           (None, 15, 15, 64)        18496     \n",
      "                                                                 \n",
      " max_pooling2d_1 (MaxPooling  (None, 7, 7, 64)         0         \n",
      " 2D)                                                             \n",
      "                                                                 \n",
      " dropout_1 (Dropout)         (None, 7, 7, 64)          0         \n",
      "                                                                 \n",
      " conv2d_3 (Conv2D)           (None, 7, 7, 64)          36928     \n",
      "                                                                 \n",
      " max_pooling2d_2 (MaxPooling  (None, 3, 3, 64)         0         \n",
      " 2D)                                                             \n",
      "                                                                 \n",
      " flatten (Flatten)           (None, 576)               0         \n",
      "                                                                 \n",
      " dense (Dense)               (None, 256)               147712    \n",
      "                                                                 \n",
      " dropout_2 (Dropout)         (None, 256)               0         \n",
      "                                                                 \n",
      " dense_1 (Dense)             (None, 43)                11051     \n",
      "                                                                 \n",
      "=================================================================\n",
      "Total params: 242,251\n",
      "Trainable params: 242,251\n",
      "Non-trainable params: 0\n",
      "_________________________________________________________________\n"
     ]
    }
   ],
   "source": [
    "model_1 = build_model()\n",
    "model_1.summary()"
   ]
  },
  {
   "cell_type": "code",
   "execution_count": 26,
   "id": "b76a89df",
   "metadata": {
    "scrolled": true
   },
   "outputs": [
    {
     "name": "stdout",
     "output_type": "stream",
     "text": [
      "Epoch 1/10\n",
      "919/919 [==============================] - 101s 109ms/step - loss: 1.5542 - accuracy: 0.5478 - val_loss: 0.3187 - val_accuracy: 0.9178\n",
      "Epoch 2/10\n",
      "919/919 [==============================] - 90s 98ms/step - loss: 0.2731 - accuracy: 0.9134 - val_loss: 0.0817 - val_accuracy: 0.9791\n",
      "Epoch 3/10\n",
      "919/919 [==============================] - 103s 112ms/step - loss: 0.1516 - accuracy: 0.9523 - val_loss: 0.0953 - val_accuracy: 0.9706\n",
      "Epoch 4/10\n",
      "919/919 [==============================] - 105s 115ms/step - loss: 0.1050 - accuracy: 0.9670 - val_loss: 0.0434 - val_accuracy: 0.9895\n",
      "Epoch 5/10\n",
      "919/919 [==============================] - 105s 115ms/step - loss: 0.0850 - accuracy: 0.9742 - val_loss: 0.0398 - val_accuracy: 0.9891\n",
      "Epoch 6/10\n",
      "919/919 [==============================] - 111s 120ms/step - loss: 0.0741 - accuracy: 0.9778 - val_loss: 0.0340 - val_accuracy: 0.9914\n",
      "Epoch 7/10\n",
      "919/919 [==============================] - 115s 125ms/step - loss: 0.0693 - accuracy: 0.9776 - val_loss: 0.0231 - val_accuracy: 0.9939\n",
      "Epoch 8/10\n",
      "919/919 [==============================] - 116s 126ms/step - loss: 0.0596 - accuracy: 0.9824 - val_loss: 0.0305 - val_accuracy: 0.9915\n",
      "Epoch 9/10\n",
      "919/919 [==============================] - 115s 125ms/step - loss: 0.0621 - accuracy: 0.9810 - val_loss: 0.0255 - val_accuracy: 0.9930\n",
      "Epoch 10/10\n",
      "919/919 [==============================] - 115s 125ms/step - loss: 0.0465 - accuracy: 0.9861 - val_loss: 0.0231 - val_accuracy: 0.9931\n"
     ]
    }
   ],
   "source": [
    "epochs = 10\n",
    "history = model_1.fit(X_train, y_train, batch_size=32, epochs=epochs, validation_data=(X_test, y_test))"
   ]
  },
  {
   "cell_type": "code",
   "execution_count": 27,
   "id": "15f463a9",
   "metadata": {},
   "outputs": [
    {
     "data": {
      "image/png": "[encoded data removed]",
      "text/plain": [
       "<Figure size 432x288 with 1 Axes>"
      ]
     },
     "metadata": {
      "needs_background": "light"
     },
     "output_type": "display_data"
    }
   ],
   "source": [
    "# Accuracy\n",
    "plt.plot(history.history['accuracy'], label='training accuracy')\n",
    "plt.plot(history.history['val_accuracy'], label='val accuracy')\n",
    "plt.xlabel('epochs')\n",
    "plt.ylabel('accuracy')\n",
    "plt.ylim([0.5, 1])\n",
    "plt.title('Accuracy vs Epochs')\n",
    "plt.legend()\n",
    "plt.show();\n"
   ]
  },
  {
   "cell_type": "code",
   "execution_count": 28,
   "id": "babe0998",
   "metadata": {},
   "outputs": [
    {
     "data": {
      "image/png": "[encoded data removed]",
      "text/plain": [
       "<Figure size 432x288 with 1 Axes>"
      ]
     },
     "metadata": {
      "needs_background": "light"
     },
     "output_type": "display_data"
    }
   ],
   "source": [
    "# Loss\n",
    "plt.plot(history.history['loss'], label='training loss')\n",
    "plt.plot(history.history['val_loss'], label='val loss')\n",
    "plt.xlabel('epoch')\n",
    "plt.ylabel('loss')\n",
    "plt.ylim([0, 1])\n",
    "plt.title('Loss vs Epochs')\n",
    "plt.legend()\n",
    "plt.show();\n"
   ]
  },
  {
   "cell_type": "markdown",
   "id": "c1ac0697",
   "metadata": {},
   "source": [
    "### Changing Parameters for better performance"
   ]
  },
  {
   "cell_type": "code",
   "execution_count": 29,
   "id": "5c5090ea",
   "metadata": {},
   "outputs": [],
   "source": [
    "def build_model_2():\n",
    "    model = Sequential()\n",
    "    model.add(Conv2D(filters=32, kernel_size=(5,5), activation='relu', input_shape=X_train.shape[1:]))\n",
    "    model.add(Conv2D(filters=32, kernel_size=(5,5), activation='relu'))\n",
    "    model.add(MaxPool2D(pool_size=(2, 2)))\n",
    "    model.add(Dropout(rate=0.25))\n",
    "    model.add(Conv2D(filters=64, kernel_size=(3, 3), activation='relu'))\n",
    "    model.add(Conv2D(filters=64, kernel_size=(3, 3), activation='relu'))\n",
    "    model.add(MaxPool2D(pool_size=(2, 2)))\n",
    "    model.add(Dropout(rate=0.25))\n",
    "    model.add(Flatten())\n",
    "    model.add(Dense(256, activation='relu'))\n",
    "    model.add(Dropout(rate=0.5))\n",
    "\n",
    "    model.add(Dense(43, activation='softmax'))\n",
    "    \n",
    "    optimizers = Adam(learning_rate = 0.001)\n",
    "\n",
    "    model.compile(optimizer = optimizers, loss = 'categorical_crossentropy', metrics = ['accuracy'])\n",
    "\n",
    "    return model"
   ]
  },
  {
   "cell_type": "code",
   "execution_count": 30,
   "id": "5a43a0f5",
   "metadata": {},
   "outputs": [
    {
     "name": "stdout",
     "output_type": "stream",
     "text": [
      "Model: \"sequential_1\"\n",
      "_________________________________________________________________\n",
      " Layer (type)                Output Shape              Param #   \n",
      "=================================================================\n",
      " conv2d_4 (Conv2D)           (None, 26, 26, 32)        2432      \n",
      "                                                                 \n",
      " conv2d_5 (Conv2D)           (None, 22, 22, 32)        25632     \n",
      "                                                                 \n",
      " max_pooling2d_3 (MaxPooling  (None, 11, 11, 32)       0         \n",
      " 2D)                                                             \n",
      "                                                                 \n",
      " dropout_3 (Dropout)         (None, 11, 11, 32)        0         \n",
      "                                                                 \n",
      " conv2d_6 (Conv2D)           (None, 9, 9, 64)          18496     \n",
      "                                                                 \n",
      " conv2d_7 (Conv2D)           (None, 7, 7, 64)          36928     \n",
      "                                                                 \n",
      " max_pooling2d_4 (MaxPooling  (None, 3, 3, 64)         0         \n",
      " 2D)                                                             \n",
      "                                                                 \n",
      " dropout_4 (Dropout)         (None, 3, 3, 64)          0         \n",
      "                                                                 \n",
      " flatten_1 (Flatten)         (None, 576)               0         \n",
      "                                                                 \n",
      " dense_2 (Dense)             (None, 256)               147712    \n",
      "                                                                 \n",
      " dropout_5 (Dropout)         (None, 256)               0         \n",
      "                                                                 \n",
      " dense_3 (Dense)             (None, 43)                11051     \n",
      "                                                                 \n",
      "=================================================================\n",
      "Total params: 242,251\n",
      "Trainable params: 242,251\n",
      "Non-trainable params: 0\n",
      "_________________________________________________________________\n"
     ]
    }
   ],
   "source": [
    "model_2 = build_model_2()\n",
    "model_2.summary()"
   ]
  },
  {
   "cell_type": "code",
   "execution_count": 31,
   "id": "73765b39",
   "metadata": {},
   "outputs": [
    {
     "name": "stdout",
     "output_type": "stream",
     "text": [
      "Epoch 1/10\n",
      "919/919 [==============================] - 72s 78ms/step - loss: 1.3011 - accuracy: 0.6283 - val_loss: 0.1775 - val_accuracy: 0.9488\n",
      "Epoch 2/10\n",
      "919/919 [==============================] - 72s 78ms/step - loss: 0.2426 - accuracy: 0.9261 - val_loss: 0.0764 - val_accuracy: 0.9794\n",
      "Epoch 3/10\n",
      "919/919 [==============================] - 73s 79ms/step - loss: 0.1511 - accuracy: 0.9548 - val_loss: 0.0436 - val_accuracy: 0.9885\n",
      "Epoch 4/10\n",
      "919/919 [==============================] - 76s 83ms/step - loss: 0.1142 - accuracy: 0.9668 - val_loss: 0.0369 - val_accuracy: 0.9901\n",
      "Epoch 5/10\n",
      "919/919 [==============================] - 72s 79ms/step - loss: 0.0955 - accuracy: 0.9699 - val_loss: 0.0379 - val_accuracy: 0.9903\n",
      "Epoch 6/10\n",
      "919/919 [==============================] - 73s 80ms/step - loss: 0.0843 - accuracy: 0.9749 - val_loss: 0.0229 - val_accuracy: 0.9936\n",
      "Epoch 7/10\n",
      "919/919 [==============================] - 70s 76ms/step - loss: 0.0713 - accuracy: 0.9793 - val_loss: 0.0203 - val_accuracy: 0.9944\n",
      "Epoch 8/10\n",
      "919/919 [==============================] - 64s 69ms/step - loss: 0.0695 - accuracy: 0.9795 - val_loss: 0.0211 - val_accuracy: 0.9948\n",
      "Epoch 9/10\n",
      "919/919 [==============================] - 67s 73ms/step - loss: 0.0631 - accuracy: 0.9820 - val_loss: 0.0163 - val_accuracy: 0.9962\n",
      "Epoch 10/10\n",
      "919/919 [==============================] - 74s 80ms/step - loss: 0.0624 - accuracy: 0.9807 - val_loss: 0.0256 - val_accuracy: 0.9948\n"
     ]
    }
   ],
   "source": [
    "epochs = 10\n",
    "history = model_2.fit(X_train, y_train, batch_size=32, epochs=epochs, validation_data=(X_test, y_test))"
   ]
  },
  {
   "cell_type": "code",
   "execution_count": 32,
   "id": "3a324b6b",
   "metadata": {},
   "outputs": [
    {
     "data": {
      "image/png": "[encoded data removed]",
      "text/plain": [
       "<Figure size 432x288 with 1 Axes>"
      ]
     },
     "metadata": {
      "needs_background": "light"
     },
     "output_type": "display_data"
    }
   ],
   "source": [
    "# Accuracy\n",
    "plt.plot(history.history['accuracy'], label='training accuracy')\n",
    "plt.plot(history.history['val_accuracy'], label='val accuracy')\n",
    "plt.ylim([0.5, 1])\n",
    "plt.xlabel('epochs')\n",
    "plt.ylabel('accuracy')\n",
    "plt.title('Accuracy vs Epochs')\n",
    "plt.legend()\n",
    "plt.show();"
   ]
  },
  {
   "cell_type": "code",
   "execution_count": 33,
   "id": "ea19ae39",
   "metadata": {
    "scrolled": false
   },
   "outputs": [
    {
     "data": {
      "image/png": "[encoded data removed]",
      "text/plain": [
       "<Figure size 432x288 with 1 Axes>"
      ]
     },
     "metadata": {
      "needs_background": "light"
     },
     "output_type": "display_data"
    }
   ],
   "source": [
    "# Loss\n",
    "plt.plot(history.history['loss'], label='training loss')\n",
    "plt.plot(history.history['val_loss'], label='val loss')\n",
    "plt.ylim([0, 1])\n",
    "plt.xlabel('epoch')\n",
    "plt.ylabel('loss')\n",
    "plt.title('Loss vs Epochs')\n",
    "plt.legend()\n",
    "plt.show();"
   ]
  },
  {
   "cell_type": "markdown",
   "id": "a241781b",
   "metadata": {},
   "source": [
    "# Performance with Image Augmentation - Model_2"
   ]
  },
  {
   "cell_type": "code",
   "execution_count": 34,
   "id": "ec4fbf2e",
   "metadata": {},
   "outputs": [],
   "source": [
    "from tensorflow.keras.preprocessing.image import ImageDataGenerator"
   ]
  },
  {
   "cell_type": "code",
   "execution_count": 35,
   "id": "69fd7cad",
   "metadata": {},
   "outputs": [],
   "source": [
    "def build_model_3():\n",
    "    model = Sequential()\n",
    "    model.add(Conv2D(filters=32, kernel_size=(3,3), activation='relu', input_shape=(30,30,3)))\n",
    "    model.add(Conv2D(filters=32, kernel_size=(3,3), activation='relu'))\n",
    "    model.add(MaxPool2D(pool_size=(2, 2)))\n",
    "    model.add(BatchNormalization(axis=-1))\n",
    "    \n",
    "    model.add(Conv2D(filters=64, kernel_size=(3,3), activation='relu'))\n",
    "    model.add(Conv2D(filters=64, kernel_size=(3,3), activation='relu'))\n",
    "    model.add(MaxPool2D(pool_size=(2, 2)))\n",
    "    model.add(BatchNormalization(axis=-1))\n",
    "    \n",
    "    model.add(Flatten())\n",
    "    model.add(Dense(256, activation='relu'))\n",
    "    model.add(BatchNormalization())\n",
    "    model.add(Dropout(rate=0.5))\n",
    "    \n",
    "    model.add(Dense(43, activation='softmax'))\n",
    "    \n",
    "    optimizers = Adam(learning_rate = 0.001)\n",
    "\n",
    "    model.compile(optimizer = optimizers, loss = 'categorical_crossentropy', metrics = ['accuracy'])\n",
    "    \n",
    "    return model"
   ]
  },
  {
   "cell_type": "code",
   "execution_count": 36,
   "id": "49e1f7ce",
   "metadata": {},
   "outputs": [],
   "source": [
    "augImage = ImageDataGenerator(\n",
    "            rotation_range=15,\n",
    "            width_shift_range=0.1,\n",
    "            height_shift_range=0.1,\n",
    "            shear_range=0.1,\n",
    "            horizontal_flip=False,\n",
    "            vertical_flip=False,\n",
    "            zoom_range=0.1)"
   ]
  },
  {
   "cell_type": "code",
   "execution_count": 37,
   "id": "35f5d8b4",
   "metadata": {},
   "outputs": [],
   "source": [
    "model_3 = build_model_3()"
   ]
  },
  {
   "cell_type": "code",
   "execution_count": 38,
   "id": "06e26e20",
   "metadata": {
    "scrolled": true
   },
   "outputs": [
    {
     "name": "stdout",
     "output_type": "stream",
     "text": [
      "Epoch 1/10\n",
      "919/919 [==============================] - 68s 73ms/step - loss: 1.3670 - accuracy: 0.6258 - val_loss: 0.2341 - val_accuracy: 0.9240\n",
      "Epoch 2/10\n",
      "919/919 [==============================] - 66s 72ms/step - loss: 0.2779 - accuracy: 0.9167 - val_loss: 0.0315 - val_accuracy: 0.9913\n",
      "Epoch 3/10\n",
      "919/919 [==============================] - 67s 73ms/step - loss: 0.1490 - accuracy: 0.9547 - val_loss: 0.0599 - val_accuracy: 0.9830\n",
      "Epoch 4/10\n",
      "919/919 [==============================] - 65s 71ms/step - loss: 0.1130 - accuracy: 0.9653 - val_loss: 0.0516 - val_accuracy: 0.9821\n",
      "Epoch 5/10\n",
      "919/919 [==============================] - 55s 59ms/step - loss: 0.0867 - accuracy: 0.9738 - val_loss: 0.0117 - val_accuracy: 0.9966\n",
      "Epoch 6/10\n",
      "919/919 [==============================] - 55s 60ms/step - loss: 0.0774 - accuracy: 0.9763 - val_loss: 0.0181 - val_accuracy: 0.9948\n",
      "Epoch 7/10\n",
      "919/919 [==============================] - 55s 59ms/step - loss: 0.0721 - accuracy: 0.9771 - val_loss: 0.0132 - val_accuracy: 0.9956\n",
      "Epoch 8/10\n",
      "919/919 [==============================] - 54s 59ms/step - loss: 0.0634 - accuracy: 0.9807 - val_loss: 0.0154 - val_accuracy: 0.9954\n",
      "Epoch 9/10\n",
      "919/919 [==============================] - 55s 60ms/step - loss: 0.0564 - accuracy: 0.9826 - val_loss: 0.0149 - val_accuracy: 0.9956\n",
      "Epoch 10/10\n",
      "919/919 [==============================] - 56s 61ms/step - loss: 0.0524 - accuracy: 0.9833 - val_loss: 0.0092 - val_accuracy: 0.9971\n"
     ]
    }
   ],
   "source": [
    "epochs = 10\n",
    "history = model_3.fit(augImage.flow(X_train, y_train, batch_size=32), epochs=epochs, validation_data=(X_test, y_test))"
   ]
  },
  {
   "cell_type": "code",
   "execution_count": 39,
   "id": "c73bd479",
   "metadata": {},
   "outputs": [
    {
     "data": {
      "image/png": "[encoded data removed]",
      "text/plain": [
       "<Figure size 432x288 with 1 Axes>"
      ]
     },
     "metadata": {
      "needs_background": "light"
     },
     "output_type": "display_data"
    }
   ],
   "source": [
    "# Accuracy\n",
    "plt.plot(history.history['accuracy'], label='training accuracy')\n",
    "plt.plot(history.history['val_accuracy'], label='val accuracy')\n",
    "plt.ylim([0.5, 1])\n",
    "plt.xlabel('epochs')\n",
    "plt.ylabel('accuracy')\n",
    "plt.title('Accuracy vs Epochs')\n",
    "plt.legend()\n",
    "plt.show();"
   ]
  },
  {
   "cell_type": "code",
   "execution_count": 40,
   "id": "bcb3a23e",
   "metadata": {
    "scrolled": false
   },
   "outputs": [
    {
     "data": {
      "image/png": "[encoded data removed]",
      "text/plain": [
       "<Figure size 432x288 with 1 Axes>"
      ]
     },
     "metadata": {
      "needs_background": "light"
     },
     "output_type": "display_data"
    }
   ],
   "source": [
    "# Loss\n",
    "plt.plot(history.history['loss'], label='training loss')\n",
    "plt.plot(history.history['val_loss'], label='val loss')\n",
    "\n",
    "plt.xlabel('epoch')\n",
    "plt.ylabel('loss')\n",
    "plt.title('Loss vs Epochs')\n",
    "plt.legend()\n",
    "plt.show();"
   ]
  },
  {
   "cell_type": "markdown",
   "id": "2e6d4cad",
   "metadata": {},
   "source": [
    "# Check Performace on Test Data"
   ]
  },
  {
   "cell_type": "markdown",
   "id": "c41212ac",
   "metadata": {},
   "source": [
    "#### Processing the Test Data"
   ]
  },
  {
   "cell_type": "code",
   "execution_count": 41,
   "id": "d7a360bf",
   "metadata": {},
   "outputs": [
    {
     "data": {
      "text/plain": [
       "(39209, 8)"
      ]
     },
     "execution_count": 41,
     "metadata": {},
     "output_type": "execute_result"
    }
   ],
   "source": [
    "test_df = pd.read_csv('Train.csv')\n",
    "test_df.shape"
   ]
  },
  {
   "cell_type": "code",
   "execution_count": 42,
   "id": "651d6989",
   "metadata": {},
   "outputs": [
    {
     "data": {
      "text/html": [
       "<div>\n",
       "<style scoped>\n",
       "    .dataframe tbody tr th:only-of-type {\n",
       "        vertical-align: middle;\n",
       "    }\n",
       "\n",
       "    .dataframe tbody tr th {\n",
       "        vertical-align: top;\n",
       "    }\n",
       "\n",
       "    .dataframe thead th {\n",
       "        text-align: right;\n",
       "    }\n",
       "</style>\n",
       "<table border=\"1\" class=\"dataframe\">\n",
       "  <thead>\n",
       "    <tr style=\"text-align: right;\">\n",
       "      <th></th>\n",
       "      <th>Width</th>\n",
       "      <th>Height</th>\n",
       "      <th>Roi.X1</th>\n",
       "      <th>Roi.Y1</th>\n",
       "      <th>Roi.X2</th>\n",
       "      <th>Roi.Y2</th>\n",
       "      <th>ClassId</th>\n",
       "      <th>Path</th>\n",
       "    </tr>\n",
       "  </thead>\n",
       "  <tbody>\n",
       "    <tr>\n",
       "      <th>0</th>\n",
       "      <td>27</td>\n",
       "      <td>26</td>\n",
       "      <td>5</td>\n",
       "      <td>5</td>\n",
       "      <td>22</td>\n",
       "      <td>20</td>\n",
       "      <td>20</td>\n",
       "      <td>Train/20/00020_00000_00000.png</td>\n",
       "    </tr>\n",
       "    <tr>\n",
       "      <th>1</th>\n",
       "      <td>28</td>\n",
       "      <td>27</td>\n",
       "      <td>5</td>\n",
       "      <td>6</td>\n",
       "      <td>23</td>\n",
       "      <td>22</td>\n",
       "      <td>20</td>\n",
       "      <td>Train/20/00020_00000_00001.png</td>\n",
       "    </tr>\n",
       "    <tr>\n",
       "      <th>2</th>\n",
       "      <td>29</td>\n",
       "      <td>26</td>\n",
       "      <td>6</td>\n",
       "      <td>5</td>\n",
       "      <td>24</td>\n",
       "      <td>21</td>\n",
       "      <td>20</td>\n",
       "      <td>Train/20/00020_00000_00002.png</td>\n",
       "    </tr>\n",
       "    <tr>\n",
       "      <th>3</th>\n",
       "      <td>28</td>\n",
       "      <td>27</td>\n",
       "      <td>5</td>\n",
       "      <td>6</td>\n",
       "      <td>23</td>\n",
       "      <td>22</td>\n",
       "      <td>20</td>\n",
       "      <td>Train/20/00020_00000_00003.png</td>\n",
       "    </tr>\n",
       "    <tr>\n",
       "      <th>4</th>\n",
       "      <td>28</td>\n",
       "      <td>26</td>\n",
       "      <td>5</td>\n",
       "      <td>5</td>\n",
       "      <td>23</td>\n",
       "      <td>21</td>\n",
       "      <td>20</td>\n",
       "      <td>Train/20/00020_00000_00004.png</td>\n",
       "    </tr>\n",
       "  </tbody>\n",
       "</table>\n",
       "</div>"
      ],
      "text/plain": [
       "   Width  Height  Roi.X1  Roi.Y1  Roi.X2  Roi.Y2  ClassId  \\\n",
       "0     27      26       5       5      22      20       20   \n",
       "1     28      27       5       6      23      22       20   \n",
       "2     29      26       6       5      24      21       20   \n",
       "3     28      27       5       6      23      22       20   \n",
       "4     28      26       5       5      23      21       20   \n",
       "\n",
       "                             Path  \n",
       "0  Train/20/00020_00000_00000.png  \n",
       "1  Train/20/00020_00000_00001.png  \n",
       "2  Train/20/00020_00000_00002.png  \n",
       "3  Train/20/00020_00000_00003.png  \n",
       "4  Train/20/00020_00000_00004.png  "
      ]
     },
     "execution_count": 42,
     "metadata": {},
     "output_type": "execute_result"
    }
   ],
   "source": [
    "test_df.head()"
   ]
  },
  {
   "cell_type": "code",
   "execution_count": 43,
   "id": "af32d2d9",
   "metadata": {},
   "outputs": [],
   "source": [
    "label = test_df['ClassId'].values\n",
    "imgs = test_df['Path'].values\n",
    "test_data = []\n",
    "\n",
    "for img in imgs:\n",
    "    image = Image.open(img)\n",
    "    image = image.resize((30,30))\n",
    "    test_data.append(np.array(image))\n",
    "X_test = np.array(test_data)"
   ]
  },
  {
   "cell_type": "code",
   "execution_count": 44,
   "id": "9a5e2d4e",
   "metadata": {},
   "outputs": [
    {
     "data": {
      "text/plain": [
       "array([[[[ 46,  51,  56],\n",
       "         [ 48,  51,  56],\n",
       "         [ 49,  51,  54],\n",
       "         ...,\n",
       "         [ 50,  49,  49],\n",
       "         [ 50,  50,  51],\n",
       "         [ 46,  49,  49]],\n",
       "\n",
       "        [[ 47,  51,  56],\n",
       "         [ 47,  49,  54],\n",
       "         [ 48,  50,  54],\n",
       "         ...,\n",
       "         [ 53,  50,  50],\n",
       "         [ 55,  55,  54],\n",
       "         [ 46,  50,  50]],\n",
       "\n",
       "        [[ 48,  51,  56],\n",
       "         [ 46,  48,  52],\n",
       "         [ 47,  49,  53],\n",
       "         ...,\n",
       "         [ 59,  54,  53],\n",
       "         [ 61,  62,  60],\n",
       "         [ 47,  53,  52]],\n",
       "\n",
       "        ...,\n",
       "\n",
       "        [[ 47,  52,  55],\n",
       "         [ 50,  52,  56],\n",
       "         [ 52,  53,  55],\n",
       "         ...,\n",
       "         [ 95,  83,  64],\n",
       "         [ 91,  82,  63],\n",
       "         [ 71,  65,  50]],\n",
       "\n",
       "        [[ 49,  53,  56],\n",
       "         [ 53,  55,  59],\n",
       "         [ 53,  54,  58],\n",
       "         ...,\n",
       "         [108,  98,  71],\n",
       "         [ 95,  93,  64],\n",
       "         [ 72,  76,  57]],\n",
       "\n",
       "        [[ 51,  52,  55],\n",
       "         [ 54,  55,  60],\n",
       "         [ 53,  55,  59],\n",
       "         ...,\n",
       "         [114, 112,  77],\n",
       "         [ 95,  96,  60],\n",
       "         [ 80,  85,  62]]],\n",
       "\n",
       "\n",
       "       [[[ 47,  50,  55],\n",
       "         [ 49,  50,  55],\n",
       "         [ 50,  50,  54],\n",
       "         ...,\n",
       "         [ 66,  74,  72],\n",
       "         [ 49,  56,  56],\n",
       "         [ 45,  49,  51]],\n",
       "\n",
       "        [[ 48,  50,  55],\n",
       "         [ 49,  50,  56],\n",
       "         [ 49,  50,  55],\n",
       "         ...,\n",
       "         [ 54,  58,  58],\n",
       "         [ 50,  54,  56],\n",
       "         [ 49,  50,  54]],\n",
       "\n",
       "        [[ 49,  51,  56],\n",
       "         [ 49,  51,  56],\n",
       "         [ 48,  50,  54],\n",
       "         ...,\n",
       "         [ 47,  49,  49],\n",
       "         [ 48,  47,  48],\n",
       "         [ 47,  47,  49]],\n",
       "\n",
       "        ...,\n",
       "\n",
       "        [[ 52,  51,  54],\n",
       "         [ 52,  52,  55],\n",
       "         [ 51,  53,  56],\n",
       "         ...,\n",
       "         [ 72,  77,  72],\n",
       "         [ 71,  80,  74],\n",
       "         [ 78,  82,  75]],\n",
       "\n",
       "        [[ 50,  52,  56],\n",
       "         [ 52,  53,  56],\n",
       "         [ 52,  54,  58],\n",
       "         ...,\n",
       "         [ 74,  72,  67],\n",
       "         [ 70,  66,  63],\n",
       "         [ 63,  61,  61]],\n",
       "\n",
       "        [[ 47,  51,  56],\n",
       "         [ 51,  54,  58],\n",
       "         [ 55,  57,  60],\n",
       "         ...,\n",
       "         [110, 101,  92],\n",
       "         [ 91,  73,  69],\n",
       "         [ 76,  68,  68]]],\n",
       "\n",
       "\n",
       "       [[[ 51,  50,  57],\n",
       "         [ 51,  51,  60],\n",
       "         [ 50,  51,  57],\n",
       "         ...,\n",
       "         [ 49,  47,  53],\n",
       "         [ 49,  49,  54],\n",
       "         [ 48,  50,  55]],\n",
       "\n",
       "        [[ 52,  52,  60],\n",
       "         [ 50,  50,  59],\n",
       "         [ 52,  52,  59],\n",
       "         ...,\n",
       "         [ 47,  47,  53],\n",
       "         [ 53,  55,  60],\n",
       "         [ 60,  63,  68]],\n",
       "\n",
       "        [[ 50,  51,  59],\n",
       "         [ 48,  49,  57],\n",
       "         [ 51,  51,  58],\n",
       "         ...,\n",
       "         [ 49,  53,  59],\n",
       "         [ 56,  60,  65],\n",
       "         [ 58,  62,  67]],\n",
       "\n",
       "        ...,\n",
       "\n",
       "        [[ 50,  50,  57],\n",
       "         [ 49,  50,  56],\n",
       "         [ 52,  54,  59],\n",
       "         ...,\n",
       "         [ 78,  81,  74],\n",
       "         [ 75,  75,  69],\n",
       "         [ 69,  67,  65]],\n",
       "\n",
       "        [[ 49,  50,  56],\n",
       "         [ 50,  51,  55],\n",
       "         [ 54,  56,  62],\n",
       "         ...,\n",
       "         [ 89,  93,  85],\n",
       "         [ 95,  94,  87],\n",
       "         [ 87,  85,  79]],\n",
       "\n",
       "        [[ 51,  51,  56],\n",
       "         [ 51,  52,  55],\n",
       "         [ 56,  58,  64],\n",
       "         ...,\n",
       "         [100, 101,  93],\n",
       "         [100,  99,  91],\n",
       "         [104, 100,  91]]],\n",
       "\n",
       "\n",
       "       ...,\n",
       "\n",
       "\n",
       "       [[[ 11,  11,  13],\n",
       "         [ 12,  12,  14],\n",
       "         [ 13,  11,  13],\n",
       "         ...,\n",
       "         [ 12,  11,  13],\n",
       "         [ 12,  11,  13],\n",
       "         [ 12,  10,  13]],\n",
       "\n",
       "        [[ 11,  11,  14],\n",
       "         [ 13,  11,  14],\n",
       "         [ 12,  11,  13],\n",
       "         ...,\n",
       "         [ 12,  11,  13],\n",
       "         [ 12,  12,  13],\n",
       "         [ 12,  11,  12]],\n",
       "\n",
       "        [[  9,  10,  13],\n",
       "         [ 12,  12,  16],\n",
       "         [ 14,  15,  17],\n",
       "         ...,\n",
       "         [ 11,  11,  13],\n",
       "         [ 11,  11,  13],\n",
       "         [ 11,  11,  11]],\n",
       "\n",
       "        ...,\n",
       "\n",
       "        [[ 10,  10,  12],\n",
       "         [ 10,   9,  11],\n",
       "         [  9,   9,  11],\n",
       "         ...,\n",
       "         [ 10,   9,  12],\n",
       "         [ 11,  10,  12],\n",
       "         [ 11,  11,  12]],\n",
       "\n",
       "        [[ 10,   9,  12],\n",
       "         [ 10,   9,  11],\n",
       "         [ 10,   9,  11],\n",
       "         ...,\n",
       "         [ 11,   9,  12],\n",
       "         [ 10,  11,  13],\n",
       "         [ 12,  11,  12]],\n",
       "\n",
       "        [[ 10,   9,  12],\n",
       "         [ 11,  10,  12],\n",
       "         [ 10,   9,  11],\n",
       "         ...,\n",
       "         [ 11,  10,  11],\n",
       "         [ 11,  11,  13],\n",
       "         [ 12,  11,  13]]],\n",
       "\n",
       "\n",
       "       [[[ 13,  13,  15],\n",
       "         [ 14,  13,  16],\n",
       "         [ 13,  11,  13],\n",
       "         ...,\n",
       "         [ 12,  11,  12],\n",
       "         [ 11,  10,  11],\n",
       "         [ 11,  13,  19]],\n",
       "\n",
       "        [[ 14,  12,  14],\n",
       "         [ 13,  12,  14],\n",
       "         [ 14,  12,  14],\n",
       "         ...,\n",
       "         [ 11,  11,  13],\n",
       "         [ 11,  10,  12],\n",
       "         [ 10,  11,  14]],\n",
       "\n",
       "        [[ 12,  11,  12],\n",
       "         [ 13,  12,  13],\n",
       "         [ 13,  12,  14],\n",
       "         ...,\n",
       "         [ 11,  10,  12],\n",
       "         [ 11,  10,  12],\n",
       "         [ 10,   9,  11]],\n",
       "\n",
       "        ...,\n",
       "\n",
       "        [[ 12,  12,  13],\n",
       "         [ 11,  10,  11],\n",
       "         [  9,   9,  11],\n",
       "         ...,\n",
       "         [ 13,  12,  13],\n",
       "         [ 11,   9,  11],\n",
       "         [  9,   9,  10]],\n",
       "\n",
       "        [[ 11,  10,  12],\n",
       "         [ 12,  10,  12],\n",
       "         [ 10,   9,  11],\n",
       "         ...,\n",
       "         [ 14,  13,  15],\n",
       "         [ 11,  10,  10],\n",
       "         [ 10,   9,   9]],\n",
       "\n",
       "        [[ 10,   9,  11],\n",
       "         [ 10,   9,  11],\n",
       "         [ 10,  10,  12],\n",
       "         ...,\n",
       "         [ 14,  12,  14],\n",
       "         [ 11,  10,  11],\n",
       "         [ 10,   9,  10]]],\n",
       "\n",
       "\n",
       "       [[[ 11,  10,  12],\n",
       "         [ 11,  10,  11],\n",
       "         [ 10,  10,  11],\n",
       "         ...,\n",
       "         [ 18,  20,  22],\n",
       "         [ 25,  24,  23],\n",
       "         [ 24,  17,  17]],\n",
       "\n",
       "        [[ 12,  11,  12],\n",
       "         [ 12,  11,  12],\n",
       "         [ 12,  10,  12],\n",
       "         ...,\n",
       "         [ 45,  60,  77],\n",
       "         [ 80,  77,  83],\n",
       "         [ 51,  30,  27]],\n",
       "\n",
       "        [[ 12,  12,  13],\n",
       "         [ 12,  12,  14],\n",
       "         [ 12,  11,  12],\n",
       "         ...,\n",
       "         [ 69,  87, 109],\n",
       "         [ 89,  84, 103],\n",
       "         [ 51,  38,  44]],\n",
       "\n",
       "        ...,\n",
       "\n",
       "        [[ 12,  11,  14],\n",
       "         [ 13,  11,  12],\n",
       "         [ 10,   9,  10],\n",
       "         ...,\n",
       "         [ 10,   9,  11],\n",
       "         [ 10,   9,  11],\n",
       "         [  9,   9,  11]],\n",
       "\n",
       "        [[ 11,  11,  13],\n",
       "         [ 11,  10,  12],\n",
       "         [  9,   9,  10],\n",
       "         ...,\n",
       "         [ 10,   9,  11],\n",
       "         [  9,   9,  11],\n",
       "         [ 10,   9,  11]],\n",
       "\n",
       "        [[ 11,  11,  12],\n",
       "         [ 10,  10,  11],\n",
       "         [  9,   9,  10],\n",
       "         ...,\n",
       "         [ 10,   9,  12],\n",
       "         [ 10,  10,  11],\n",
       "         [ 10,   9,  11]]]], dtype=uint8)"
      ]
     },
     "execution_count": 44,
     "metadata": {},
     "output_type": "execute_result"
    }
   ],
   "source": [
    "X_test"
   ]
  },
  {
   "cell_type": "markdown",
   "id": "9cd08749",
   "metadata": {},
   "source": [
    "#### Test using Model_1"
   ]
  },
  {
   "cell_type": "code",
   "execution_count": 45,
   "id": "db8cff64",
   "metadata": {
    "scrolled": true
   },
   "outputs": [
    {
     "name": "stdout",
     "output_type": "stream",
     "text": [
      "1226/1226 [==============================] - 25s 20ms/step\n"
     ]
    },
    {
     "data": {
      "text/plain": [
       "array([[0., 0., 0., ..., 0., 0., 0.],\n",
       "       [0., 0., 0., ..., 0., 0., 0.],\n",
       "       [0., 0., 0., ..., 0., 0., 0.],\n",
       "       ...,\n",
       "       [0., 0., 0., ..., 0., 0., 1.],\n",
       "       [0., 0., 0., ..., 0., 0., 1.],\n",
       "       [0., 0., 0., ..., 0., 0., 1.]], dtype=float32)"
      ]
     },
     "execution_count": 45,
     "metadata": {},
     "output_type": "execute_result"
    }
   ],
   "source": [
    "# Prediction on test data using model_1\n",
    "y_pred = model_1.predict(X_test)\n",
    "y_pred"
   ]
  },
  {
   "cell_type": "code",
   "execution_count": 46,
   "id": "0df6010c",
   "metadata": {},
   "outputs": [
    {
     "data": {
      "text/plain": [
       "array([20, 20, 20, ..., 42, 42, 42], dtype=int64)"
      ]
     },
     "execution_count": 46,
     "metadata": {},
     "output_type": "execute_result"
    }
   ],
   "source": [
    "label"
   ]
  },
  {
   "cell_type": "code",
   "execution_count": 47,
   "id": "c39f5e6b",
   "metadata": {},
   "outputs": [],
   "source": [
    "pred_label = np.argmax(y_pred, axis = -1)"
   ]
  },
  {
   "cell_type": "code",
   "execution_count": 48,
   "id": "6ec2a55e",
   "metadata": {},
   "outputs": [
    {
     "name": "stdout",
     "output_type": "stream",
     "text": [
      "0.9687826774465046\n"
     ]
    }
   ],
   "source": [
    "from sklearn.metrics import accuracy_score\n",
    "print(accuracy_score(label, pred_label))"
   ]
  },
  {
   "cell_type": "markdown",
   "id": "b29fda49",
   "metadata": {},
   "source": [
    "#### Test using Model_2"
   ]
  },
  {
   "cell_type": "code",
   "execution_count": 49,
   "id": "bd200052",
   "metadata": {},
   "outputs": [
    {
     "name": "stdout",
     "output_type": "stream",
     "text": [
      "1226/1226 [==============================] - 15s 12ms/step\n",
      "0.9910734780280038\n"
     ]
    }
   ],
   "source": [
    "y_pred = model_2.predict(X_test)\n",
    "\n",
    "label_pred = np.argmax(y_pred, axis=-1)\n",
    "\n",
    "print(accuracy_score(label, label_pred))"
   ]
  },
  {
   "cell_type": "markdown",
   "id": "bd65911e",
   "metadata": {},
   "source": [
    "#### Test using Model_3"
   ]
  },
  {
   "cell_type": "code",
   "execution_count": 50,
   "id": "137ee554",
   "metadata": {},
   "outputs": [
    {
     "name": "stdout",
     "output_type": "stream",
     "text": [
      "1226/1226 [==============================] - 13s 10ms/step\n",
      "0.9203499196613023\n"
     ]
    }
   ],
   "source": [
    "y_pred = model_3.predict(X_test)\n",
    "\n",
    "label_pred = np.argmax(y_pred, axis=-1)\n",
    "\n",
    "print(accuracy_score(label, label_pred))"
   ]
  },
  {
   "cell_type": "markdown",
   "id": "a34f91a1",
   "metadata": {},
   "source": [
    "### Select and Save the best model"
   ]
  },
  {
   "cell_type": "markdown",
   "id": "2838d968",
   "metadata": {},
   "source": [
    "Hence we can see that model 2 shows the best performance than othe two models in both of training , validation and testing fage, we are going to save model_2"
   ]
  },
  {
   "cell_type": "code",
   "execution_count": 51,
   "id": "3f5ee32a",
   "metadata": {},
   "outputs": [],
   "source": [
    "# Save model_2 for future use\n",
    "model_2.save('./training/TSR_model.h5')"
   ]
  },
  {
   "cell_type": "markdown",
   "id": "1253792d",
   "metadata": {},
   "source": [
    "# Load the Model"
   ]
  },
  {
   "cell_type": "code",
   "execution_count": 52,
   "id": "8e18fa74",
   "metadata": {},
   "outputs": [],
   "source": [
    "from keras.models import load_model\n",
    "model = load_model('./training/TSR_model.h5')"
   ]
  },
  {
   "cell_type": "code",
   "execution_count": 53,
   "id": "c42c91ba",
   "metadata": {},
   "outputs": [],
   "source": [
    "# Classes of trafic signs\n",
    "# These are given in the meta folder of the dataset\n",
    "classes = { 0:'Speed limit (20km/h)',\n",
    "            1:'Speed limit (30km/h)', \n",
    "            2:'Speed limit (50km/h)', \n",
    "            3:'Speed limit (60km/h)', \n",
    "            4:'Speed limit (70km/h)', \n",
    "            5:'Speed limit (80km/h)', \n",
    "            6:'End of speed limit (80km/h)', \n",
    "            7:'Speed limit (100km/h)', \n",
    "            8:'Speed limit (120km/h)', \n",
    "            9:'No passing', \n",
    "            10:'No passing veh over 3.5 tons', \n",
    "            11:'Right-of-way at intersection', \n",
    "            12:'Priority road', \n",
    "            13:'Yield', \n",
    "            14:'Stop', \n",
    "            15:'No vehicles', \n",
    "            16:'Veh > 3.5 tons prohibited', \n",
    "            17:'No entry', \n",
    "            18:'General caution', \n",
    "            19:'Dangerous curve left', \n",
    "            20:'Dangerous curve right', \n",
    "            21:'Double curve', \n",
    "            22:'Bumpy road', \n",
    "            23:'Slippery road', \n",
    "            24:'Road narrows on the right', \n",
    "            25:'Road work', \n",
    "            26:'Traffic signals', \n",
    "            27:'Pedestrians', \n",
    "            28:'Children crossing', \n",
    "            29:'Bicycles crossing', \n",
    "            30:'Beware of ice/snow',\n",
    "            31:'Wild animals crossing', \n",
    "            32:'End speed + passing limits', \n",
    "            33:'Turn right ahead', \n",
    "            34:'Turn left ahead', \n",
    "            35:'Ahead only', \n",
    "            36:'Go straight or right', \n",
    "            37:'Go straight or left', \n",
    "            38:'Keep right', \n",
    "            39:'Keep left', \n",
    "            40:'Roundabout mandatory', \n",
    "            41:'End of no passing', \n",
    "            42:'End no passing veh > 3.5 tons' }"
   ]
  },
  {
   "cell_type": "code",
   "execution_count": 54,
   "id": "71f6f431",
   "metadata": {},
   "outputs": [],
   "source": [
    "def model_test_on_img(img):\n",
    "    data = []\n",
    "    image = Image.open(img)\n",
    "    image = image.resize((30,30))\n",
    "    data.append(np.array(image))\n",
    "    X_test = np.array(data)\n",
    "    y_pred = model.predict(X_test)\n",
    "    label_pred = np.argmax(y_pred, axis=-1)\n",
    "    img_class = classes[label_pred[0]]\n",
    "    return image, img_class"
   ]
  },
  {
   "cell_type": "code",
   "execution_count": 55,
   "id": "d0c46e69",
   "metadata": {},
   "outputs": [
    {
     "name": "stdout",
     "output_type": "stream",
     "text": [
      "1/1 [==============================] - 0s 91ms/step\n"
     ]
    },
    {
     "data": {
      "text/plain": [
       "(<PIL.Image.Image image mode=RGB size=30x30 at 0x1A81D1AA9D0>,\n",
       " 'Turn left ahead')"
      ]
     },
     "execution_count": 55,
     "metadata": {},
     "output_type": "execute_result"
    }
   ],
   "source": [
    "model_test_on_img(r'E:\\Data Science Machine Learning Study\\Deep Learning Projects\\Traffic_Sign_Detection\\Test\\00032.png')"
   ]
  },
  {
   "cell_type": "code",
   "execution_count": 56,
   "id": "db57f8dc",
   "metadata": {},
   "outputs": [
    {
     "name": "stdout",
     "output_type": "stream",
     "text": [
      "1/1 [==============================] - 0s 16ms/step\n",
      "Turn left ahead\n"
     ]
    },
    {
     "data": {
      "image/png": "[encoded data removed]",
      "text/plain": [
       "<Figure size 432x288 with 1 Axes>"
      ]
     },
     "metadata": {
      "needs_background": "light"
     },
     "output_type": "display_data"
    }
   ],
   "source": [
    "# Test on a random image\n",
    "img, predicted_class = model_test_on_img(r'E:\\Data Science Machine Learning Study\\Deep Learning Projects\\Traffic_Sign_Detection\\Test\\00032.png')\n",
    "\n",
    "# print predicted class\n",
    "print(predicted_class)\n",
    "\n",
    "# show the selected image\n",
    "plt.imshow(img)\n",
    "plt.show();"
   ]
  },
  {
   "cell_type": "code",
   "execution_count": 57,
   "id": "507c3674",
   "metadata": {},
   "outputs": [
    {
     "name": "stdout",
     "output_type": "stream",
     "text": [
      "1/1 [==============================] - 0s 31ms/step\n",
      "Right-of-way at intersection\n"
     ]
    },
    {
     "data": {
      "image/png": "[encoded data removed]",
      "text/plain": [
       "<Figure size 432x288 with 1 Axes>"
      ]
     },
     "metadata": {
      "needs_background": "light"
     },
     "output_type": "display_data"
    }
   ],
   "source": [
    "# Test on a random image\n",
    "img, predicted_class = model_test_on_img(r'.\\Test\\00004.png')\n",
    "\n",
    "# print predicted class\n",
    "print(predicted_class)\n",
    "\n",
    "# show the selected image\n",
    "plt.imshow(img)\n",
    "plt.show();"
   ]
  },
  {
   "cell_type": "code",
   "execution_count": null,
   "id": "739031f5",
   "metadata": {},
   "outputs": [],
   "source": []
  }
 ],
 "metadata": {
  "kernelspec": {
   "display_name": "Python 3 (ipykernel)",
   "language": "python",
   "name": "python3"
  },
  "language_info": {
   "codemirror_mode": {
    "name": "ipython",
    "version": 3
   },
   "file_extension": ".py",
   "mimetype": "text/x-python",
   "name": "python",
   "nbconvert_exporter": "python",
   "pygments_lexer": "ipython3",
   "version": "3.9.12"
  }
 },
 "nbformat": 4,
 "nbformat_minor": 5
}
